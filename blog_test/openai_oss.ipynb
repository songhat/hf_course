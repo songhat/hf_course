{
 "cells": [
  {
   "cell_type": "code",
   "execution_count": null,
   "id": "ddc28477",
   "metadata": {},
   "outputs": [],
   "source": []
  },
  {
   "cell_type": "code",
   "execution_count": null,
   "id": "93e81a08",
   "metadata": {},
   "outputs": [],
   "source": [
    "# # Optional step if you want PyTorch 2.8, otherwise just `pip install torch`\n",
    "# pip install torch==2.8.0 --index-url https://download.pytorch.org/whl/test/cu128\n",
    "\n",
    "# # Install triton kernels for mxfp4 support\n",
    "# pip install git+https://github.com/triton-lang/triton.git@main#subdirectory=python/triton_kernels\n"
   ]
  }
 ],
 "metadata": {
  "language_info": {
   "name": "python"
  }
 },
 "nbformat": 4,
 "nbformat_minor": 5
}
