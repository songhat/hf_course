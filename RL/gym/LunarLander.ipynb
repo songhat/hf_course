{
 "cells": [
  {
   "cell_type": "code",
   "execution_count": null,
   "id": "8508beab",
   "metadata": {},
   "outputs": [],
   "source": [
    "!pip install gymnasium"
   ]
  },
  {
   "cell_type": "code",
   "execution_count": 1,
   "id": "eae48e16",
   "metadata": {},
   "outputs": [],
   "source": [
    "import gymnasium as gym\n",
    "import matplotlib.pyplot as plt\n",
    "import imageio\n",
    "from IPython.display import Video\n",
    "import torch\n",
    "import numpy as np\n",
    "from agent import QLearningAgent,DQNAgent,REINFORCE,ActorCritic,A2C\n",
    "import cv2\n",
    "from torch.utils.tensorboard import SummaryWriter  # Import TensorBoard\n",
    "\n",
    "device = torch.device(\"cuda\" if torch.cuda.is_available() else \"cpu\")"
   ]
  },
  {
   "cell_type": "code",
   "execution_count": 2,
   "id": "2c446833",
   "metadata": {},
   "outputs": [],
   "source": [
    "env = gym.make(\"LunarLander-v3\", render_mode=\"rgb_array\")\n",
    "observation, info = env.reset(seed=42)\n",
    "\n",
    "def show_env(env):\n",
    "    frame = env.render()\n",
    "    plt.imshow(frame)\n",
    "    plt.axis('off')\n",
    "    plt.show()\n",
    "\n",
    "def plot(x,ylabel='Loss'):\n",
    "    # === Plot ===\n",
    "    plt.xlabel('Episode')\n",
    "    plt.ylabel(ylabel)\n",
    "    plt.plot(range(len(x)), x)\n",
    "    plt.show()\n",
    "\n",
    "def test_agent(agent, env=\"LunarLander-v3\", num_envs=8, num_episodes=1000):\n",
    "    \"\"\"\n",
    "    并行测试智能体在多个环境中的表现，不进行学习和探索。\n",
    "    输入:\n",
    "        agent: 智能体对象，需实现 get_action 方法\n",
    "        num_envs: 并行环境数量\n",
    "        num_episodes: 总测试回合数\n",
    "    输出:\n",
    "        绘制奖励分布图\n",
    "        \"\"\"\n",
    "        # 这里必须是工厂函数列表\n",
    "    envs =  gym.make_vec(env, num_envs=num_envs, vectorization_mode=\"sync\") # 同步环境\n",
    "    total_rewards = []\n",
    "    episodes_per_env = num_episodes // num_envs\n",
    "    agent.eval()\n",
    "\n",
    "    for _ in range(episodes_per_env):\n",
    "        states, infos = envs.reset()\n",
    "        dones = [False] * num_envs\n",
    "        rewards = [0.0] * num_envs\n",
    "\n",
    "        while not all(dones):\n",
    "            actions, _ = agent.get_action(states)\n",
    "            next_states, step_rewards, terminated, truncated, infos = envs.step(actions)\n",
    "            for i in range(num_envs):\n",
    "                if not dones[i]:\n",
    "                    rewards[i] += step_rewards[i]\n",
    "                    dones[i] = terminated[i] or truncated[i]\n",
    "            states = next_states\n",
    "        total_rewards.extend(rewards)\n",
    "\n",
    "    plt.figure(figsize=(8,5))\n",
    "    plt.hist(total_rewards, bins=30, color='skyblue', edgecolor='black')\n",
    "    plt.xlabel('reward')\n",
    "    plt.ylabel('episodes')\n",
    "    plt.title(f'{num_episodes} episodes-reward distribution')\n",
    "    plt.show()\n",
    "    \n",
    "def save_video(agent, env, file_name):\n",
    "    frames = []\n",
    "    obs, infos = env.reset()\n",
    "    sum_reward = 0\n",
    "    agent.eval()\n",
    "    while True:\n",
    "        action, prob = agent.get_action(obs)\n",
    "        next_obs, reward, terminated, truncated, info = env.step(action)\n",
    "        obs = next_obs\n",
    "        sum_reward += reward\n",
    "\n",
    "        frame = env.render()\n",
    "        frame = cv2.cvtColor(frame, cv2.COLOR_RGB2BGR)\n",
    "        cv2.putText(frame, f\"Reward: {sum_reward:.2f}\", (10, 30), cv2.FONT_HERSHEY_SIMPLEX, \n",
    "                    1, (0, 255, 0), 2, cv2.LINE_AA)\n",
    "        frame = cv2.cvtColor(frame, cv2.COLOR_BGR2RGB)\n",
    "        frames.append(frame)\n",
    "\n",
    "        if terminated or truncated:\n",
    "            break\n",
    "\n",
    "    # 保存为视频\n",
    "    imageio.mimsave(file_name, frames, fps=30)\n",
    "    Video(file_name, embed=True)"
   ]
  },
  {
   "cell_type": "code",
   "execution_count": null,
   "id": "31afd1d9",
   "metadata": {},
   "outputs": [],
   "source": [
    "print('动作空间：', env.action_space)\n",
    "print('观察空间: ', env.observation_space) # 8个值的区间\n",
    "# 观察就是部分状态"
   ]
  },
  {
   "cell_type": "code",
   "execution_count": null,
   "id": "a881d780",
   "metadata": {},
   "outputs": [],
   "source": [
    "frames = []\n",
    "\n",
    "while True:\n",
    "    action = env.action_space.sample()\n",
    "    observation, reward, terminated, truncated, info = env.step(action)\n",
    "    frame = env.render()\n",
    "    frames.append(frame)\n",
    "    if terminated or truncated:\n",
    "        break\n",
    "\n",
    "# 保存为视频\n",
    "imageio.mimsave('lunarlander.mp4', frames, fps=30)\n",
    "Video('lunarlander.mp4', embed=True)"
   ]
  },
  {
   "cell_type": "code",
   "execution_count": null,
   "id": "d0b0fdaa",
   "metadata": {},
   "outputs": [],
   "source": [
    "agent = QLearningAgent(\n",
    "        state_size=8,\n",
    "        action_size=2,\n",
    "        device=device)\n",
    "agent.qnet.to(device)  # 模型转到GPU\n",
    "\n",
    "episodes = 1000\n",
    "loss_history = []\n",
    "\n",
    "for episode in range(episodes):\n",
    "    state, info = env.reset()\n",
    "    total_loss, cnt = 0, 0\n",
    "    terminated = False\n",
    "    truncated = False\n",
    "    t = 0\n",
    "\n",
    "    while not (terminated or truncated):\n",
    "        action = agent.getAction(state)\n",
    "        next_state, reward, terminated, truncated, info = env.step(action)\n",
    "\n",
    "        loss = agent.update(state, action, reward, next_state, terminated or truncated)\n",
    "        state = next_state\n",
    "        t += 1\n",
    "    agent.epsilon_update()\n",
    "\n",
    "    writer.add_scalar('Loss/train', loss, episode)\n",
    "    writer.add_scalar('Reward/train', reward, episode)\n",
    "    writer.add_scalar('Episode Duration/train', t, episode)\n",
    "    writer.add_scalar('Epl/train', t, episode)"
   ]
  },
  {
   "cell_type": "code",
   "execution_count": null,
   "id": "eac53a34",
   "metadata": {},
   "outputs": [],
   "source": [
    "plt.xlabel('episode')\n",
    "plt.ylabel('loss')\n",
    "plt.plot(range(len(loss_history)), loss_history)\n",
    "plt.show()"
   ]
  },
  {
   "cell_type": "code",
   "execution_count": null,
   "id": "83f388a5",
   "metadata": {},
   "outputs": [],
   "source": [
    "# 保存权重\n",
    "torch.save(agent.qnet.state_dict(), \"lunar_lander.pth\")"
   ]
  },
  {
   "cell_type": "code",
   "execution_count": null,
   "id": "a4c6f12d",
   "metadata": {},
   "outputs": [],
   "source": [
    "agent = DQNAgent(\n",
    "    lr=0.0001,\n",
    "    epsilon=1,\n",
    "    epsilon_decay=0.995,\n",
    "    TAU=0.005,\n",
    "    batch_size=128,\n",
    "    buffer_size=10000,\n",
    "    action_size=4,\n",
    "    device=device,\n",
    "    use_cnn=False\n",
    "    )"
   ]
  },
  {
   "cell_type": "code",
   "execution_count": null,
   "id": "8951f40a",
   "metadata": {},
   "outputs": [],
   "source": [
    "\n",
    "agent.train()\n",
    "writer = SummaryWriter()\n",
    "episodes = 600\n",
    "\n",
    "for episode in range(episodes):\n",
    "    state, info = env.reset()\n",
    "    done = False\n",
    "    t = 0\n",
    "    total_reward = 0\n",
    "    while not done:\n",
    "        action, Q = agent.get_action(state)\n",
    "        next_state, reward, terminated, truncated, info = env.step(action)\n",
    "        done = terminated or truncated\n",
    "\n",
    "        loss = agent.update(state, action, reward, next_state, done)\n",
    "        t += 1\n",
    "        state = next_state\n",
    "        total_reward += reward\n",
    "\n",
    "    agent.epsilon_update()\n",
    "    writer.add_scalar('Loss/train', loss, episode)\n",
    "    writer.add_scalar('Reward/train', total_reward, episode)\n",
    "    writer.add_scalar('Episode Duration/train', t, episode)\n",
    "    writer.add_scalar('Epsilon/train', agent.epsilon, episode)\n",
    "\n",
    "writer.close()"
   ]
  },
  {
   "cell_type": "code",
   "execution_count": null,
   "id": "9c587cb9",
   "metadata": {},
   "outputs": [],
   "source": [
    "agent.save(\"models/dqn_lunar_lander.pth\")"
   ]
  },
  {
   "cell_type": "code",
   "execution_count": null,
   "id": "9730d99c",
   "metadata": {},
   "outputs": [],
   "source": [
    "agent.load(\"models/dqn_lunar_lander.pth\")"
   ]
  },
  {
   "cell_type": "code",
   "execution_count": null,
   "id": "37d91fe6",
   "metadata": {},
   "outputs": [],
   "source": [
    "test_agent(agent,env=\"LunarLander-v3\",num_envs=128,num_episodes=1000)"
   ]
  },
  {
   "cell_type": "code",
   "execution_count": null,
   "id": "58603c7a",
   "metadata": {},
   "outputs": [],
   "source": [
    "save_video(agent, env,'dqn_lunarlander.mp4')"
   ]
  },
  {
   "cell_type": "code",
   "execution_count": null,
   "id": "3ccecf0f",
   "metadata": {},
   "outputs": [],
   "source": [
    "agent = REINFORCE(\n",
    "    lr=0.001,\n",
    "    action_size=4)\n",
    "episodes=5000"
   ]
  },
  {
   "cell_type": "code",
   "execution_count": null,
   "id": "eb8b9513",
   "metadata": {},
   "outputs": [],
   "source": [
    "for episode in range(episodes):\n",
    "    state, info = env.reset()\n",
    "    terminated = False\n",
    "    truncated = False\n",
    "    sum_reward = 0\n",
    "\n",
    "    while not (terminated or truncated): \n",
    "        action, prob = agent.get_action(state)\n",
    "        next_state, reward, terminated, truncated, info = env.step(action.item())\n",
    "\n",
    "        agent.add(reward, prob)\n",
    "        state = next_state\n",
    "        sum_reward += reward\n",
    "\n",
    "    loss = agent.update()\n",
    "\n",
    "    if episode % 100 == 0:\n",
    "        print(\"episode :{}, total reward : {:.1f}, loss : {:.4f}\".format(episode, sum_reward, loss))"
   ]
  },
  {
   "cell_type": "code",
   "execution_count": null,
   "id": "54f5d442",
   "metadata": {},
   "outputs": [],
   "source": [
    "torch.save(agent.pi.state_dict(), \"models/reinforce_lunar_lander2.pth\")"
   ]
  },
  {
   "cell_type": "code",
   "execution_count": null,
   "id": "8735df66",
   "metadata": {},
   "outputs": [],
   "source": [
    "agent.pi.load_state_dict(torch.load(\"models/reinforce_lunar_lander2.pth\"))"
   ]
  },
  {
   "cell_type": "code",
   "execution_count": null,
   "id": "f44cae89",
   "metadata": {},
   "outputs": [],
   "source": [
    "test_agent(agent,env=\"LunarLander-v3\",num_envs=128,num_episodes=1000)"
   ]
  },
  {
   "cell_type": "code",
   "execution_count": null,
   "id": "22bc5b1e",
   "metadata": {},
   "outputs": [],
   "source": [
    "save_video(agent, env)"
   ]
  },
  {
   "cell_type": "code",
   "execution_count": null,
   "id": "ebb26586",
   "metadata": {},
   "outputs": [],
   "source": [
    "hyperparams = {\n",
    "    'lr_pi': 0.001,\n",
    "    'lr_v': 0.0002,\n",
    "    'gamma': 0.98\n",
    "}\n",
    "agent = ActorCritic(\n",
    "    action_size=4,\n",
    "    device='cpu',\n",
    "    **hyperparams\n",
    ")\n",
    "# agent.train()\n",
    "writer = SummaryWriter(comment=\"ActorCritic\")\n",
    "writer.add_hparams(hyperparams, {})\n",
    "episodes = 600\n",
    "\n",
    "for episode in range(episodes):\n",
    "    state, info = env.reset()\n",
    "    done = False\n",
    "    t = 0\n",
    "    actor_loss = 0\n",
    "    critic_loss = 0\n",
    "    total_reward = 0\n",
    "\n",
    "    while not done: \n",
    "        action, action_probs = agent.get_action(state)\n",
    "        next_state, reward,  terminated, truncated, info = env.step(action)\n",
    "        \n",
    "        done = (terminated or truncated)\n",
    "        losses = agent.update(state, action, action_probs, reward, next_state, done)\n",
    "        state = next_state\n",
    "        actor_loss += losses['actor_loss']\n",
    "        critic_loss += losses['critic_loss']\n",
    "        total_reward += reward\n",
    "        t += 1\n",
    "\n",
    "    writer.add_scalar('Actor Loss/train', actor_loss, episode)\n",
    "    writer.add_scalar('Critic Loss/train', critic_loss, episode)\n",
    "    writer.add_scalar('Reward/train', total_reward, episode)\n",
    "    writer.add_scalar('Episode Duration/train', t, episode)\n",
    "\n",
    "writer.close()"
   ]
  },
  {
   "cell_type": "code",
   "execution_count": 3,
   "id": "a1dda4fc",
   "metadata": {},
   "outputs": [],
   "source": [
    "config = {\n",
    "    'agent': 'A2C',\n",
    "    'action_size': 4,\n",
    "    'device': 'cuda:0',\n",
    "    'lr_pi': 0.0002,\n",
    "    'lr_v': 0.0005,\n",
    "    'gamma': 0.98,\n",
    "    'episodes': 600,\n",
    "    'num_env': 128\n",
    "}\n",
    "agent = A2C(\n",
    "    **config\n",
    ")"
   ]
  },
  {
   "cell_type": "code",
   "execution_count": null,
   "id": "25fac0b5",
   "metadata": {},
   "outputs": [],
   "source": [
    "episodes = config['episodes']\n",
    "env_vec = gym.make_vec(\"LunarLander-v3\", num_envs=config['num_env'], vectorization_mode=\"sync\") # 同步环境向量\n",
    "\n",
    "writer = SummaryWriter(comment=\"A2C\")\n",
    "writer.add_hparams(config, {})\n",
    "for episode in range(episodes):\n",
    "    states, info = env_vec.reset()\n",
    "    done = np.array([False])\n",
    "    t = 0\n",
    "    actor_loss = 0\n",
    "    critic_loss = 0\n",
    "    total_reward = 0\n",
    "\n",
    "    while not done.all(): \n",
    "        actions, action_probs = agent.get_action(states)\n",
    "        next_states, rewards, terminated, truncated, info = env_vec.step(actions)\n",
    "\n",
    "        done = np.logical_or(terminated, truncated)\n",
    "        losses = agent.update(states, actions, action_probs, rewards, next_states, done)\n",
    "        \n",
    "        states = next_states\n",
    "        actor_loss += losses['actor_loss']\n",
    "        critic_loss += losses['critic_loss']\n",
    "        total_reward += np.mean(rewards)\n",
    "        t += 1\n",
    "        if t > 600: # 感觉有问题，如果不设置就会无限等待下去\n",
    "            break\n",
    "\n",
    "\n",
    "        writer.add_scalar('Actor Loss/train', actor_loss, episode)\n",
    "        writer.add_scalar('Critic Loss/train', critic_loss, episode)\n",
    "        writer.add_scalar('Reward/train', total_reward, episode)\n",
    "        writer.add_scalar('Episode Duration/train', t, episode)"
   ]
  },
  {
   "cell_type": "code",
   "execution_count": null,
   "id": "15da1f1c",
   "metadata": {},
   "outputs": [],
   "source": [
    "torch.save(agent.pi.state_dict(), \"./models/a2c_lunarlander.pth.pi\")\n",
    "torch.save(agent.v.state_dict(), \"./models/a2c_lunarlander.pth.v\")"
   ]
  },
  {
   "cell_type": "code",
   "execution_count": null,
   "id": "d428ae51",
   "metadata": {},
   "outputs": [],
   "source": [
    "agent.load(\"./models/a2c_lunarlander.pth\")"
   ]
  },
  {
   "cell_type": "code",
   "execution_count": 9,
   "id": "a7f8cdb8",
   "metadata": {},
   "outputs": [
    {
     "data": {
      "image/png": "[encoded data removed]",
      "text/plain": [
       "<Figure size 800x500 with 1 Axes>"
      ]
     },
     "metadata": {},
     "output_type": "display_data"
    }
   ],
   "source": [
    "test_agent(agent)"
   ]
  },
  {
   "cell_type": "code",
   "execution_count": null,
   "id": "9bd06478",
   "metadata": {},
   "outputs": [],
   "source": [
    "save_video(agent, env,'a2c_lunarlander.mp4')"
   ]
  },
  {
   "cell_type": "code",
   "execution_count": null,
   "id": "1712e855",
   "metadata": {},
   "outputs": [],
   "source": [
    "print(os.environ[\"HTTP_PROXY\"])"
   ]
  }
 ],
 "metadata": {
  "kernelspec": {
   "display_name": "RL",
   "language": "python",
   "name": "python3"
  },
  "language_info": {
   "codemirror_mode": {
    "name": "ipython",
    "version": 3
   },
   "file_extension": ".py",
   "mimetype": "text/x-python",
   "name": "python",
   "nbconvert_exporter": "python",
   "pygments_lexer": "ipython3",
   "version": "3.10.18"
  }
 },
 "nbformat": 4,
 "nbformat_minor": 5
}
