{
 "cells": [
  {
   "cell_type": "code",
   "execution_count": null,
   "id": "8508beab",
   "metadata": {},
   "outputs": [],
   "source": [
    "!pip install gymnasium"
   ]
  },
  {
   "cell_type": "code",
   "execution_count": 1,
   "id": "eae48e16",
   "metadata": {},
   "outputs": [],
   "source": [
    "import gymnasium as gym\n",
    "import matplotlib.pyplot as plt\n",
    "import imageio\n",
    "from IPython.display import Video\n",
    "import torch\n",
    "import numpy as np\n",
    "from agent import QLearningAgent,DQNAgent,REINFORCE,ActorCritic,A2C\n",
    "import cv2\n",
    "from torch.utils.tensorboard import SummaryWriter  # Import TensorBoard\n",
    "import wandb\n",
    "\n",
    "device = torch.device(\"cuda:0\" if torch.cuda.is_available() else \"cpu\")"
   ]
  },
  {
   "cell_type": "code",
   "execution_count": 2,
   "id": "2c446833",
   "metadata": {},
   "outputs": [],
   "source": [
    "env = gym.make(\"LunarLander-v3\", render_mode=\"rgb_array\")\n",
    "observation, info = env.reset(seed=42)\n",
    "\n",
    "def show_env(env):\n",
    "    frame = env.render()\n",
    "    plt.imshow(frame)\n",
    "    plt.axis('off')\n",
    "    plt.show()\n",
    "\n",
    "def plot(x,ylabel='Loss'):\n",
    "    # === Plot ===\n",
    "    plt.xlabel('Episode')\n",
    "    plt.ylabel(ylabel)\n",
    "    plt.plot(range(len(x)), x)\n",
    "    plt.show()\n",
    "\n",
    "def test_agent(agent, env=\"LunarLander-v3\", num_envs=8, num_episodes=1000):\n",
    "    \"\"\"\n",
    "    并行测试智能体在多个环境中的表现，不进行学习和探索。\n",
    "    输入:\n",
    "        agent: 智能体对象，需实现 get_action 方法\n",
    "        num_envs: 并行环境数量\n",
    "        num_episodes: 总测试回合数\n",
    "    输出:\n",
    "        绘制奖励分布图\n",
    "        \"\"\"\n",
    "        # 这里必须是工厂函数列表\n",
    "    envs =  gym.make_vec(env, num_envs=num_envs, vectorization_mode=\"sync\") # 同步环境\n",
    "    total_rewards = []\n",
    "    episodes_per_env = num_episodes // num_envs\n",
    "    agent.eval()\n",
    "\n",
    "    for _ in range(episodes_per_env):\n",
    "        states, infos = envs.reset()\n",
    "        dones = [False] * num_envs\n",
    "        rewards = [0.0] * num_envs\n",
    "\n",
    "        while not all(dones):\n",
    "            actions, _ = agent.get_action(states)\n",
    "            next_states, step_rewards, terminated, truncated, infos = envs.step(actions)\n",
    "            for i in range(num_envs):\n",
    "                if not dones[i]:\n",
    "                    rewards[i] += step_rewards[i]\n",
    "                    dones[i] = terminated[i] or truncated[i]\n",
    "            states = next_states\n",
    "        total_rewards.extend(rewards)\n",
    "\n",
    "    plt.figure(figsize=(8,5))\n",
    "    plt.hist(total_rewards, bins=30, color='skyblue', edgecolor='black')\n",
    "    plt.xlabel('reward')\n",
    "    plt.ylabel('episodes')\n",
    "    plt.title(f'{num_episodes} episodes-reward distribution')\n",
    "    plt.show()\n",
    "    \n",
    "def save_video(agent, env, file_name):\n",
    "    frames = []\n",
    "    obs, infos = env.reset()\n",
    "    sum_reward = 0\n",
    "    agent.eval()\n",
    "    while True:\n",
    "        action, prob = agent.get_action(obs)\n",
    "        next_obs, reward, terminated, truncated, info = env.step(action)\n",
    "        obs = next_obs\n",
    "        sum_reward += reward\n",
    "\n",
    "        frame = env.render()\n",
    "        frame = cv2.cvtColor(frame, cv2.COLOR_RGB2BGR)\n",
    "        cv2.putText(frame, f\"Reward: {sum_reward:.2f}\", (10, 30), cv2.FONT_HERSHEY_SIMPLEX, \n",
    "                    1, (0, 255, 0), 2, cv2.LINE_AA)\n",
    "        frame = cv2.cvtColor(frame, cv2.COLOR_BGR2RGB)\n",
    "        frames.append(frame)\n",
    "\n",
    "        if terminated or truncated:\n",
    "            break\n",
    "\n",
    "    # 保存为视频\n",
    "    imageio.mimsave(file_name, frames, fps=30)\n",
    "    Video(file_name, embed=True)"
   ]
  },
  {
   "cell_type": "code",
   "execution_count": null,
   "id": "31afd1d9",
   "metadata": {},
   "outputs": [],
   "source": [
    "print('动作空间：', env.action_space)\n",
    "print('观察空间: ', env.observation_space) # 8个值的区间\n",
    "# 观察就是部分状态"
   ]
  },
  {
   "cell_type": "code",
   "execution_count": null,
   "id": "a881d780",
   "metadata": {},
   "outputs": [],
   "source": [
    "frames = []\n",
    "\n",
    "while True:\n",
    "    action = env.action_space.sample()\n",
    "    observation, reward, terminated, truncated, info = env.step(action)\n",
    "    frame = env.render()\n",
    "    frames.append(frame)\n",
    "    if terminated or truncated:\n",
    "        break\n",
    "\n",
    "# 保存为视频\n",
    "imageio.mimsave('lunarlander.mp4', frames, fps=30)\n",
    "Video('lunarlander.mp4', embed=True)"
   ]
  },
  {
   "cell_type": "code",
   "execution_count": null,
   "id": "d0b0fdaa",
   "metadata": {},
   "outputs": [],
   "source": [
    "agent = QLearningAgent(\n",
    "        state_size=8,\n",
    "        action_size=2,\n",
    "        device=device)\n",
    "agent.qnet.to(device)  # 模型转到GPU\n",
    "\n",
    "episodes = 1000\n",
    "loss_history = []\n",
    "\n",
    "for episode in range(episodes):\n",
    "    state, info = env.reset()\n",
    "    total_loss, cnt = 0, 0\n",
    "    terminated = False\n",
    "    truncated = False\n",
    "    t = 0\n",
    "\n",
    "    while not (terminated or truncated):\n",
    "        action = agent.getAction(state)\n",
    "        next_state, reward, terminated, truncated, info = env.step(action)\n",
    "\n",
    "        loss = agent.update(state, action, reward, next_state, terminated or truncated)\n",
    "        state = next_state\n",
    "        t += 1\n",
    "    agent.epsilon_update()\n",
    "\n",
    "    writer.add_scalar('Loss/train', loss, episode)\n",
    "    writer.add_scalar('Reward/train', reward, episode)\n",
    "    writer.add_scalar('Episode Duration/train', t, episode)\n",
    "    writer.add_scalar('Epl/train', t, episode)"
   ]
  },
  {
   "cell_type": "code",
   "execution_count": null,
   "id": "eac53a34",
   "metadata": {},
   "outputs": [],
   "source": [
    "plt.xlabel('episode')\n",
    "plt.ylabel('loss')\n",
    "plt.plot(range(len(loss_history)), loss_history)\n",
    "plt.show()"
   ]
  },
  {
   "cell_type": "code",
   "execution_count": null,
   "id": "83f388a5",
   "metadata": {},
   "outputs": [],
   "source": [
    "# 保存权重\n",
    "torch.save(agent.qnet.state_dict(), \"lunar_lander.pth\")"
   ]
  },
  {
   "cell_type": "code",
   "execution_count": null,
   "id": "a4c6f12d",
   "metadata": {},
   "outputs": [],
   "source": [
    "agent = DQNAgent(\n",
    "    lr=0.0001,\n",
    "    epsilon=1,\n",
    "    epsilon_decay=0.995,\n",
    "    TAU=0.005,\n",
    "    batch_size=128,\n",
    "    buffer_size=10000,\n",
    "    action_size=4,\n",
    "    device=device,\n",
    "    use_cnn=False\n",
    "    )"
   ]
  },
  {
   "cell_type": "code",
   "execution_count": null,
   "id": "8951f40a",
   "metadata": {},
   "outputs": [],
   "source": [
    "\n",
    "agent.train()\n",
    "writer = SummaryWriter()\n",
    "episodes = 600\n",
    "\n",
    "for episode in range(episodes):\n",
    "    state, info = env.reset()\n",
    "    done = False\n",
    "    t = 0\n",
    "    total_reward = 0\n",
    "    while not done:\n",
    "        action, Q = agent.get_action(state)\n",
    "        next_state, reward, terminated, truncated, info = env.step(action)\n",
    "        done = terminated or truncated\n",
    "\n",
    "        loss = agent.update(state, action, reward, next_state, done)\n",
    "        t += 1\n",
    "        state = next_state\n",
    "        total_reward += reward\n",
    "\n",
    "    agent.epsilon_update()\n",
    "    writer.add_scalar('Loss/train', loss, episode)\n",
    "    writer.add_scalar('Reward/train', total_reward, episode)\n",
    "    writer.add_scalar('Episode Duration/train', t, episode)\n",
    "    writer.add_scalar('Epsilon/train', agent.epsilon, episode)\n",
    "\n",
    "writer.close()"
   ]
  },
  {
   "cell_type": "code",
   "execution_count": null,
   "id": "9c587cb9",
   "metadata": {},
   "outputs": [],
   "source": [
    "agent.save(\"models/dqn_lunar_lander.pth\")"
   ]
  },
  {
   "cell_type": "code",
   "execution_count": null,
   "id": "9730d99c",
   "metadata": {},
   "outputs": [],
   "source": [
    "agent.load(\"models/dqn_lunar_lander.pth\")"
   ]
  },
  {
   "cell_type": "code",
   "execution_count": null,
   "id": "37d91fe6",
   "metadata": {},
   "outputs": [],
   "source": [
    "test_agent(agent,env=\"LunarLander-v3\",num_envs=128,num_episodes=1000)"
   ]
  },
  {
   "cell_type": "code",
   "execution_count": null,
   "id": "58603c7a",
   "metadata": {},
   "outputs": [],
   "source": [
    "save_video(agent, env,'dqn_lunarlander.mp4')"
   ]
  },
  {
   "cell_type": "code",
   "execution_count": null,
   "id": "3ccecf0f",
   "metadata": {},
   "outputs": [],
   "source": [
    "agent = REINFORCE(\n",
    "    lr=0.001,\n",
    "    action_size=4)\n",
    "episodes=5000"
   ]
  },
  {
   "cell_type": "code",
   "execution_count": null,
   "id": "eb8b9513",
   "metadata": {},
   "outputs": [],
   "source": [
    "for episode in range(episodes):\n",
    "    state, info = env.reset()\n",
    "    terminated = False\n",
    "    truncated = False\n",
    "    sum_reward = 0\n",
    "\n",
    "    while not (terminated or truncated): \n",
    "        action, prob = agent.get_action(state)\n",
    "        next_state, reward, terminated, truncated, info = env.step(action.item())\n",
    "\n",
    "        agent.add(reward, prob)\n",
    "        state = next_state\n",
    "        sum_reward += reward\n",
    "\n",
    "    loss = agent.update()\n",
    "\n",
    "    if episode % 100 == 0:\n",
    "        print(\"episode :{}, total reward : {:.1f}, loss : {:.4f}\".format(episode, sum_reward, loss))"
   ]
  },
  {
   "cell_type": "code",
   "execution_count": null,
   "id": "54f5d442",
   "metadata": {},
   "outputs": [],
   "source": [
    "torch.save(agent.pi.state_dict(), \"models/reinforce_lunar_lander2.pth\")"
   ]
  },
  {
   "cell_type": "code",
   "execution_count": null,
   "id": "8735df66",
   "metadata": {},
   "outputs": [],
   "source": [
    "agent.pi.load_state_dict(torch.load(\"models/reinforce_lunar_lander2.pth\"))"
   ]
  },
  {
   "cell_type": "code",
   "execution_count": null,
   "id": "f44cae89",
   "metadata": {},
   "outputs": [],
   "source": [
    "test_agent(agent,env=\"LunarLander-v3\",num_envs=128,num_episodes=1000)"
   ]
  },
  {
   "cell_type": "code",
   "execution_count": null,
   "id": "22bc5b1e",
   "metadata": {},
   "outputs": [],
   "source": [
    "save_video(agent, env)"
   ]
  },
  {
   "cell_type": "code",
   "execution_count": null,
   "id": "ebb26586",
   "metadata": {},
   "outputs": [],
   "source": [
    "hyperparams = {\n",
    "    'lr_pi': 0.001,\n",
    "    'lr_v': 0.0002,\n",
    "    'gamma': 0.98\n",
    "}\n",
    "agent = ActorCritic(\n",
    "    action_size=4,\n",
    "    device='cpu',\n",
    "    **hyperparams\n",
    ")\n",
    "# agent.train()\n",
    "writer = SummaryWriter(comment=\"ActorCritic\")\n",
    "writer.add_hparams(hyperparams, {})\n",
    "episodes = 600\n",
    "\n",
    "for episode in range(episodes):\n",
    "    state, info = env.reset()\n",
    "    done = False\n",
    "    t = 0\n",
    "    actor_loss = 0\n",
    "    critic_loss = 0\n",
    "    total_reward = 0\n",
    "\n",
    "    while not done: \n",
    "        action, action_probs = agent.get_action(state)\n",
    "        next_state, reward,  terminated, truncated, info = env.step(action)\n",
    "        \n",
    "        done = (terminated or truncated)\n",
    "        losses = agent.update(state, action, action_probs, reward, next_state, done)\n",
    "        state = next_state\n",
    "        actor_loss += losses['actor_loss']\n",
    "        critic_loss += losses['critic_loss']\n",
    "        total_reward += reward\n",
    "        t += 1\n",
    "\n",
    "    writer.add_scalar('Actor Loss/train', actor_loss, episode)\n",
    "    writer.add_scalar('Critic Loss/train', critic_loss, episode)\n",
    "    writer.add_scalar('Reward/train', total_reward, episode)\n",
    "    writer.add_scalar('Episode Duration/train', t, episode)\n",
    "\n",
    "writer.close()"
   ]
  },
  {
   "cell_type": "code",
   "execution_count": 3,
   "id": "a1dda4fc",
   "metadata": {},
   "outputs": [],
   "source": [
    "config = {\n",
    "    'agent': 'A2C',\n",
    "    'action_size': 4,\n",
    "    'device': device,\n",
    "    'lr_pi': 0.0002,\n",
    "    'lr_v': 0.0005,\n",
    "    'gamma': 0.99,\n",
    "    'episodes': 600,\n",
    "    'total_steps': 50_000,\n",
    "    'num_env': 128\n",
    "}\n",
    "agent = A2C(\n",
    "    **config\n",
    ")"
   ]
  },
  {
   "cell_type": "code",
   "execution_count": 4,
   "id": "e5bb5930",
   "metadata": {},
   "outputs": [
    {
     "name": "stderr",
     "output_type": "stream",
     "text": [
      "\u001b[34m\u001b[1mwandb\u001b[0m: Currently logged in as: \u001b[33m1358467720\u001b[0m to \u001b[32mhttps://api.wandb.ai\u001b[0m. Use \u001b[1m`wandb login --relogin`\u001b[0m to force relogin\n"
     ]
    },
    {
     "data": {
      "text/html": [],
      "text/plain": [
       "<IPython.core.display.HTML object>"
      ]
     },
     "metadata": {},
     "output_type": "display_data"
    },
    {
     "data": {
      "text/html": [
       "Tracking run with wandb version 0.21.4"
      ],
      "text/plain": [
       "<IPython.core.display.HTML object>"
      ]
     },
     "metadata": {},
     "output_type": "display_data"
    },
    {
     "data": {
      "text/html": [
       "Run data is saved locally in <code>d:\\all_codes\\hf_course\\RL\\gym\\wandb\\run-20250914_163317-nnq4n8e0</code>"
      ],
      "text/plain": [
       "<IPython.core.display.HTML object>"
      ]
     },
     "metadata": {},
     "output_type": "display_data"
    },
    {
     "data": {
      "text/html": [
       "Syncing run <strong><a href='https://wandb.ai/1358467720/LunarLander-v3/runs/nnq4n8e0' target=\"_blank\">A2C训练</a></strong> to <a href='https://wandb.ai/1358467720/LunarLander-v3' target=\"_blank\">Weights & Biases</a> (<a href='https://wandb.me/developer-guide' target=\"_blank\">docs</a>)<br>"
      ],
      "text/plain": [
       "<IPython.core.display.HTML object>"
      ]
     },
     "metadata": {},
     "output_type": "display_data"
    },
    {
     "data": {
      "text/html": [
       " View project at <a href='https://wandb.ai/1358467720/LunarLander-v3' target=\"_blank\">https://wandb.ai/1358467720/LunarLander-v3</a>"
      ],
      "text/plain": [
       "<IPython.core.display.HTML object>"
      ]
     },
     "metadata": {},
     "output_type": "display_data"
    },
    {
     "data": {
      "text/html": [
       " View run at <a href='https://wandb.ai/1358467720/LunarLander-v3/runs/nnq4n8e0' target=\"_blank\">https://wandb.ai/1358467720/LunarLander-v3/runs/nnq4n8e0</a>"
      ],
      "text/plain": [
       "<IPython.core.display.HTML object>"
      ]
     },
     "metadata": {},
     "output_type": "display_data"
    },
    {
     "name": "stderr",
     "output_type": "stream",
     "text": [
      "\u001b[34m\u001b[1mwandb\u001b[0m: \u001b[32m\u001b[41mERROR\u001b[0m The nbformat package was not found. It is required to save notebook history.\n"
     ]
    },
    {
     "data": {
      "text/html": [],
      "text/plain": [
       "<IPython.core.display.HTML object>"
      ]
     },
     "metadata": {},
     "output_type": "display_data"
    },
    {
     "data": {
      "text/html": [
       "<br>    <style><br>        .wandb-row {<br>            display: flex;<br>            flex-direction: row;<br>            flex-wrap: wrap;<br>            justify-content: flex-start;<br>            width: 100%;<br>        }<br>        .wandb-col {<br>            display: flex;<br>            flex-direction: column;<br>            flex-basis: 100%;<br>            flex: 1;<br>            padding: 10px;<br>        }<br>    </style><br><div class=\"wandb-row\"><div class=\"wandb-col\"><h3>Run history:</h3><br/><table class=\"wandb\"><tr><td>Actor Loss/train</td><td>█▁▆▇█▆▇▇▇▇▇▇▇▇▇▇▇▇▇▇▇▇█▇▇███████████████</td></tr><tr><td>Critic Loss/train</td><td>█▃▃▃▃▁▁▁▁▁▁▁▁▁▁▁▁▁▁▁▁▁▁▁▁▁▁▁▁▁▁▁▁▂▃▂▂▂▂▂</td></tr><tr><td>Reward/train</td><td>▁█▅▅▅▅▄▅▅▅▅▅▅▅▅▅▅▅▆▅▆▆▆▆▇▇▇▇▆▇▇▇██▇▇▇▇█▇</td></tr></table><br/></div><div class=\"wandb-col\"><h3>Run summary:</h3><br/><table class=\"wandb\"><tr><td>Actor Loss/train</td><td>-6506.31302</td></tr><tr><td>Critic Loss/train</td><td>4830.01322</td></tr><tr><td>Reward/train</td><td>-11.20223</td></tr></table><br/></div></div>"
      ],
      "text/plain": [
       "<IPython.core.display.HTML object>"
      ]
     },
     "metadata": {},
     "output_type": "display_data"
    },
    {
     "data": {
      "text/html": [
       " View run <strong style=\"color:#cdcd00\">A2C训练</strong> at: <a href='https://wandb.ai/1358467720/LunarLander-v3/runs/nnq4n8e0' target=\"_blank\">https://wandb.ai/1358467720/LunarLander-v3/runs/nnq4n8e0</a><br> View project at: <a href='https://wandb.ai/1358467720/LunarLander-v3' target=\"_blank\">https://wandb.ai/1358467720/LunarLander-v3</a><br>Synced 5 W&B file(s), 0 media file(s), 0 artifact file(s) and 0 other file(s)"
      ],
      "text/plain": [
       "<IPython.core.display.HTML object>"
      ]
     },
     "metadata": {},
     "output_type": "display_data"
    },
    {
     "data": {
      "text/html": [
       "Find logs at: <code>.\\wandb\\run-20250914_163317-nnq4n8e0\\logs</code>"
      ],
      "text/plain": [
       "<IPython.core.display.HTML object>"
      ]
     },
     "metadata": {},
     "output_type": "display_data"
    }
   ],
   "source": [
    "wandb.init(\n",
    "    project=\"LunarLander-v3\",\n",
    "    config=config,  # 直接传入你的 config 字典\n",
    "    name=\"A2C训练\"\n",
    ")\n",
    "\n",
    "env_vec = gym.make_vec(\"LunarLander-v3\", num_envs=config['num_env'], vectorization_mode=\"sync\") # 同步环境向量，会打开autoreset模式\n",
    "states, infos = env_vec.reset()\n",
    "actor_loss = 0\n",
    "critic_loss = 0\n",
    "total_reward = 0\n",
    "\n",
    "for step in range(config['total_steps']):\n",
    "    actions, action_probs = agent.get_action(states)\n",
    "    next_states, rewards, terminated, truncated, info = env_vec.step(actions)\n",
    "\n",
    "    done = np.logical_or(terminated, truncated)\n",
    "    losses = agent.update(states, actions, action_probs, rewards, next_states, done)\n",
    "    \n",
    "    states = next_states\n",
    "    actor_loss += losses['actor_loss']\n",
    "    critic_loss += losses['critic_loss']\n",
    "    total_reward += np.mean(rewards)\n",
    "\n",
    "    if step % 600 == 0:\n",
    "        wandb.log({\n",
    "            'Actor Loss/train': actor_loss,\n",
    "            'Critic Loss/train': critic_loss,\n",
    "            'Reward/train': total_reward,\n",
    "        }, step=step)\n",
    "        actor_loss = 0\n",
    "        critic_loss = 0\n",
    "        total_reward = 0\n",
    "\n",
    "wandb.finish()"
   ]
  },
  {
   "cell_type": "code",
   "execution_count": 5,
   "id": "48f5790a",
   "metadata": {},
   "outputs": [],
   "source": [
    "episodes = config['episodes']\n",
    "env_vec = gym.make_vec(\"LunarLander-v3\", num_envs=config['num_env'], vectorization_mode=\"sync\") # 同步环境向量\n",
    "\n",
    "writer = SummaryWriter(comment=\"A2C\")\n",
    "for episode in range(episodes):\n",
    "    states, info = env_vec.reset()\n",
    "    done = np.array([False])\n",
    "    t = 0\n",
    "    actor_loss = 0\n",
    "    critic_loss = 0\n",
    "    total_reward = 0\n",
    "\n",
    "    while not done.all(): \n",
    "        actions, action_probs = agent.get_action(states)\n",
    "        next_states, rewards, terminated, truncated, info = env_vec.step(actions)\n",
    "\n",
    "        done = np.logical_or(terminated, truncated)\n",
    "        losses = agent.update(states, actions, action_probs, rewards, next_states, done)\n",
    "        \n",
    "        states = next_states\n",
    "        actor_loss += losses['actor_loss']\n",
    "        critic_loss += losses['critic_loss']\n",
    "        total_reward += np.mean(rewards)\n",
    "        t += 1\n",
    "        if t > 600: # 感觉有问题，如果不设置就会无限等待下去\n",
    "            break\n",
    "\n",
    "\n",
    "    writer.add_scalar('Actor Loss/train', actor_loss, episode)\n",
    "    writer.add_scalar('Critic Loss/train', critic_loss, episode)\n",
    "    writer.add_scalar('Reward/train', total_reward, episode)\n",
    "    writer.add_scalar('Episode Duration/train', t, episode)"
   ]
  },
  {
   "cell_type": "code",
   "execution_count": 23,
   "id": "4e016a2f",
   "metadata": {},
   "outputs": [
    {
     "data": {
      "text/html": [
       "<pre style=\"white-space:pre;overflow-x:auto;line-height:normal;font-family:Menlo,'DejaVu Sans Mono',consolas,'Courier New',monospace\">d:\\conda_env\\hf_course\\lib\\site-packages\\gymnasium\\envs\\registration.py:736: UserWarning: <span style=\"color: #808000; text-decoration-color: #808000\">WARN: The environment is </span>\n",
       "<span style=\"color: #808000; text-decoration-color: #808000\">being initialised with render_mode='RGB_array' that is not in the possible render_modes (['human', 'rgb_array']).</span>\n",
       "  logger.warn(\n",
       "</pre>\n"
      ],
      "text/plain": [
       "d:\\conda_env\\hf_course\\lib\\site-packages\\gymnasium\\envs\\registration.py:736: UserWarning: \u001b[33mWARN: The environment is \u001b[0m\n",
       "\u001b[33mbeing initialised with render_mode='RGB_array' that is not in the possible render_modes (['human', 'rgb_array']).\u001b[0m\n",
       "  logger.warn(\n"
      ]
     },
     "metadata": {},
     "output_type": "display_data"
    },
    {
     "data": {
      "text/html": [
       "<pre style=\"white-space:pre;overflow-x:auto;line-height:normal;font-family:Menlo,'DejaVu Sans Mono',consolas,'Courier New',monospace\">Using cuda device\n",
       "</pre>\n"
      ],
      "text/plain": [
       "Using cuda device\n"
      ]
     },
     "metadata": {},
     "output_type": "display_data"
    },
    {
     "data": {
      "text/html": [
       "<pre style=\"white-space:pre;overflow-x:auto;line-height:normal;font-family:Menlo,'DejaVu Sans Mono',consolas,'Courier New',monospace\">Wrapping the env with a `Monitor` wrapper\n",
       "</pre>\n"
      ],
      "text/plain": [
       "Wrapping the env with a `Monitor` wrapper\n"
      ]
     },
     "metadata": {},
     "output_type": "display_data"
    },
    {
     "data": {
      "text/html": [
       "<pre style=\"white-space:pre;overflow-x:auto;line-height:normal;font-family:Menlo,'DejaVu Sans Mono',consolas,'Courier New',monospace\">Wrapping the env in a DummyVecEnv.\n",
       "</pre>\n"
      ],
      "text/plain": [
       "Wrapping the env in a DummyVecEnv.\n"
      ]
     },
     "metadata": {},
     "output_type": "display_data"
    },
    {
     "data": {
      "text/html": [
       "<pre style=\"white-space:pre;overflow-x:auto;line-height:normal;font-family:Menlo,'DejaVu Sans Mono',consolas,'Courier New',monospace\">d:\\conda_env\\hf_course\\lib\\site-packages\\stable_baselines3\\common\\on_policy_algorithm.py:150: UserWarning: You are \n",
       "trying to run A2C on the GPU, but it is primarily intended to run on the CPU when not using a CNN policy (you are \n",
       "using ActorCriticPolicy which should be a MlpPolicy). See https://github.com/DLR-RM/stable-baselines3/issues/1245 \n",
       "for more info. You can pass `device='cpu'` or `export CUDA_VISIBLE_DEVICES=` to force using the CPU.Note: The model\n",
       "will train, but the GPU utilization will be poor and the training might take longer than on CPU.\n",
       "  warnings.warn(\n",
       "</pre>\n"
      ],
      "text/plain": [
       "d:\\conda_env\\hf_course\\lib\\site-packages\\stable_baselines3\\common\\on_policy_algorithm.py:150: UserWarning: You are \n",
       "trying to run A2C on the GPU, but it is primarily intended to run on the CPU when not using a CNN policy (you are \n",
       "using ActorCriticPolicy which should be a MlpPolicy). See https://github.com/DLR-RM/stable-baselines3/issues/1245 \n",
       "for more info. You can pass `device='cpu'` or `export CUDA_VISIBLE_DEVICES=` to force using the CPU.Note: The model\n",
       "will train, but the GPU utilization will be poor and the training might take longer than on CPU.\n",
       "  warnings.warn(\n"
      ]
     },
     "metadata": {},
     "output_type": "display_data"
    },
    {
     "data": {
      "text/html": [
       "<pre style=\"white-space:pre;overflow-x:auto;line-height:normal;font-family:Menlo,'DejaVu Sans Mono',consolas,'Courier New',monospace\">------------------------------------\n",
       "| rollout/              |          |\n",
       "|    ep_len_mean        | 115      |\n",
       "|    ep_rew_mean        | -434     |\n",
       "| time/                 |          |\n",
       "|    fps                | 272      |\n",
       "|    iterations         | 100      |\n",
       "|    time_elapsed       | 1        |\n",
       "|    total_timesteps    | 500      |\n",
       "| train/                |          |\n",
       "|    entropy_loss       | -1.21    |\n",
       "|    explained_variance | -0.026   |\n",
       "|    learning_rate      | 0.0007   |\n",
       "|    n_updates          | 99       |\n",
       "|    policy_loss        | -6.62    |\n",
       "|    value_loss         | 68.8     |\n",
       "------------------------------------\n",
       "</pre>\n"
      ],
      "text/plain": [
       "------------------------------------\n",
       "| rollout/              |          |\n",
       "|    ep_len_mean        | 115      |\n",
       "|    ep_rew_mean        | -434     |\n",
       "| time/                 |          |\n",
       "|    fps                | 272      |\n",
       "|    iterations         | 100      |\n",
       "|    time_elapsed       | 1        |\n",
       "|    total_timesteps    | 500      |\n",
       "| train/                |          |\n",
       "|    entropy_loss       | -1.21    |\n",
       "|    explained_variance | -0.026   |\n",
       "|    learning_rate      | 0.0007   |\n",
       "|    n_updates          | 99       |\n",
       "|    policy_loss        | -6.62    |\n",
       "|    value_loss         | 68.8     |\n",
       "------------------------------------\n"
      ]
     },
     "metadata": {},
     "output_type": "display_data"
    },
    {
     "data": {
      "text/html": [
       "<pre style=\"white-space:pre;overflow-x:auto;line-height:normal;font-family:Menlo,'DejaVu Sans Mono',consolas,'Courier New',monospace\">------------------------------------\n",
       "| rollout/              |          |\n",
       "|    ep_len_mean        | 117      |\n",
       "|    ep_rew_mean        | -469     |\n",
       "| time/                 |          |\n",
       "|    fps                | 282      |\n",
       "|    iterations         | 200      |\n",
       "|    time_elapsed       | 3        |\n",
       "|    total_timesteps    | 1000     |\n",
       "| train/                |          |\n",
       "|    entropy_loss       | -0.973   |\n",
       "|    explained_variance | -0.042   |\n",
       "|    learning_rate      | 0.0007   |\n",
       "|    n_updates          | 199      |\n",
       "|    policy_loss        | -2.17    |\n",
       "|    value_loss         | 5.74     |\n",
       "------------------------------------\n",
       "</pre>\n"
      ],
      "text/plain": [
       "------------------------------------\n",
       "| rollout/              |          |\n",
       "|    ep_len_mean        | 117      |\n",
       "|    ep_rew_mean        | -469     |\n",
       "| time/                 |          |\n",
       "|    fps                | 282      |\n",
       "|    iterations         | 200      |\n",
       "|    time_elapsed       | 3        |\n",
       "|    total_timesteps    | 1000     |\n",
       "| train/                |          |\n",
       "|    entropy_loss       | -0.973   |\n",
       "|    explained_variance | -0.042   |\n",
       "|    learning_rate      | 0.0007   |\n",
       "|    n_updates          | 199      |\n",
       "|    policy_loss        | -2.17    |\n",
       "|    value_loss         | 5.74     |\n",
       "------------------------------------\n"
      ]
     },
     "metadata": {},
     "output_type": "display_data"
    },
    {
     "data": {
      "text/html": [
       "<pre style=\"white-space:pre;overflow-x:auto;line-height:normal;font-family:Menlo,'DejaVu Sans Mono',consolas,'Courier New',monospace\">------------------------------------\n",
       "| rollout/              |          |\n",
       "|    ep_len_mean        | 121      |\n",
       "|    ep_rew_mean        | -468     |\n",
       "| time/                 |          |\n",
       "|    fps                | 285      |\n",
       "|    iterations         | 300      |\n",
       "|    time_elapsed       | 5        |\n",
       "|    total_timesteps    | 1500     |\n",
       "| train/                |          |\n",
       "|    entropy_loss       | -1.14    |\n",
       "|    explained_variance | -0.00283 |\n",
       "|    learning_rate      | 0.0007   |\n",
       "|    n_updates          | 299      |\n",
       "|    policy_loss        | -5.72    |\n",
       "|    value_loss         | 20.9     |\n",
       "------------------------------------\n",
       "</pre>\n"
      ],
      "text/plain": [
       "------------------------------------\n",
       "| rollout/              |          |\n",
       "|    ep_len_mean        | 121      |\n",
       "|    ep_rew_mean        | -468     |\n",
       "| time/                 |          |\n",
       "|    fps                | 285      |\n",
       "|    iterations         | 300      |\n",
       "|    time_elapsed       | 5        |\n",
       "|    total_timesteps    | 1500     |\n",
       "| train/                |          |\n",
       "|    entropy_loss       | -1.14    |\n",
       "|    explained_variance | -0.00283 |\n",
       "|    learning_rate      | 0.0007   |\n",
       "|    n_updates          | 299      |\n",
       "|    policy_loss        | -5.72    |\n",
       "|    value_loss         | 20.9     |\n",
       "------------------------------------\n"
      ]
     },
     "metadata": {},
     "output_type": "display_data"
    },
    {
     "ename": "KeyboardInterrupt",
     "evalue": "",
     "output_type": "error",
     "traceback": [
      "\u001b[1;31m---------------------------------------------------------------------------\u001b[0m",
      "\u001b[1;31mKeyboardInterrupt\u001b[0m                         Traceback (most recent call last)",
      "Cell \u001b[1;32mIn[23], line 4\u001b[0m\n\u001b[0;32m      2\u001b[0m env \u001b[38;5;241m=\u001b[39m gym\u001b[38;5;241m.\u001b[39mmake(\u001b[38;5;124m\"\u001b[39m\u001b[38;5;124mLunarLander-v3\u001b[39m\u001b[38;5;124m\"\u001b[39m, render_mode\u001b[38;5;241m=\u001b[39m\u001b[38;5;124m\"\u001b[39m\u001b[38;5;124mRGB_array\u001b[39m\u001b[38;5;124m\"\u001b[39m)\n\u001b[0;32m      3\u001b[0m model \u001b[38;5;241m=\u001b[39m A2C(\u001b[38;5;124m\"\u001b[39m\u001b[38;5;124mMlpPolicy\u001b[39m\u001b[38;5;124m\"\u001b[39m, env, verbose\u001b[38;5;241m=\u001b[39m\u001b[38;5;241m1\u001b[39m)\n\u001b[1;32m----> 4\u001b[0m \u001b[43mmodel\u001b[49m\u001b[38;5;241;43m.\u001b[39;49m\u001b[43mlearn\u001b[49m\u001b[43m(\u001b[49m\u001b[43mtotal_timesteps\u001b[49m\u001b[38;5;241;43m=\u001b[39;49m\u001b[38;5;241;43m2_000_000\u001b[39;49m\u001b[43m,\u001b[49m\u001b[43mprogress_bar\u001b[49m\u001b[38;5;241;43m=\u001b[39;49m\u001b[38;5;28;43;01mTrue\u001b[39;49;00m\u001b[43m)\u001b[49m\n",
      "File \u001b[1;32md:\\conda_env\\hf_course\\lib\\site-packages\\stable_baselines3\\a2c\\a2c.py:201\u001b[0m, in \u001b[0;36mA2C.learn\u001b[1;34m(self, total_timesteps, callback, log_interval, tb_log_name, reset_num_timesteps, progress_bar)\u001b[0m\n\u001b[0;32m    192\u001b[0m \u001b[38;5;28;01mdef\u001b[39;00m\u001b[38;5;250m \u001b[39m\u001b[38;5;21mlearn\u001b[39m(\n\u001b[0;32m    193\u001b[0m     \u001b[38;5;28mself\u001b[39m: SelfA2C,\n\u001b[0;32m    194\u001b[0m     total_timesteps: \u001b[38;5;28mint\u001b[39m,\n\u001b[1;32m   (...)\u001b[0m\n\u001b[0;32m    199\u001b[0m     progress_bar: \u001b[38;5;28mbool\u001b[39m \u001b[38;5;241m=\u001b[39m \u001b[38;5;28;01mFalse\u001b[39;00m,\n\u001b[0;32m    200\u001b[0m ) \u001b[38;5;241m-\u001b[39m\u001b[38;5;241m>\u001b[39m SelfA2C:\n\u001b[1;32m--> 201\u001b[0m     \u001b[38;5;28;01mreturn\u001b[39;00m \u001b[38;5;28;43msuper\u001b[39;49m\u001b[43m(\u001b[49m\u001b[43m)\u001b[49m\u001b[38;5;241;43m.\u001b[39;49m\u001b[43mlearn\u001b[49m\u001b[43m(\u001b[49m\n\u001b[0;32m    202\u001b[0m \u001b[43m        \u001b[49m\u001b[43mtotal_timesteps\u001b[49m\u001b[38;5;241;43m=\u001b[39;49m\u001b[43mtotal_timesteps\u001b[49m\u001b[43m,\u001b[49m\n\u001b[0;32m    203\u001b[0m \u001b[43m        \u001b[49m\u001b[43mcallback\u001b[49m\u001b[38;5;241;43m=\u001b[39;49m\u001b[43mcallback\u001b[49m\u001b[43m,\u001b[49m\n\u001b[0;32m    204\u001b[0m \u001b[43m        \u001b[49m\u001b[43mlog_interval\u001b[49m\u001b[38;5;241;43m=\u001b[39;49m\u001b[43mlog_interval\u001b[49m\u001b[43m,\u001b[49m\n\u001b[0;32m    205\u001b[0m \u001b[43m        \u001b[49m\u001b[43mtb_log_name\u001b[49m\u001b[38;5;241;43m=\u001b[39;49m\u001b[43mtb_log_name\u001b[49m\u001b[43m,\u001b[49m\n\u001b[0;32m    206\u001b[0m \u001b[43m        \u001b[49m\u001b[43mreset_num_timesteps\u001b[49m\u001b[38;5;241;43m=\u001b[39;49m\u001b[43mreset_num_timesteps\u001b[49m\u001b[43m,\u001b[49m\n\u001b[0;32m    207\u001b[0m \u001b[43m        \u001b[49m\u001b[43mprogress_bar\u001b[49m\u001b[38;5;241;43m=\u001b[39;49m\u001b[43mprogress_bar\u001b[49m\u001b[43m,\u001b[49m\n\u001b[0;32m    208\u001b[0m \u001b[43m    \u001b[49m\u001b[43m)\u001b[49m\n",
      "File \u001b[1;32md:\\conda_env\\hf_course\\lib\\site-packages\\stable_baselines3\\common\\on_policy_algorithm.py:324\u001b[0m, in \u001b[0;36mOnPolicyAlgorithm.learn\u001b[1;34m(self, total_timesteps, callback, log_interval, tb_log_name, reset_num_timesteps, progress_bar)\u001b[0m\n\u001b[0;32m    321\u001b[0m \u001b[38;5;28;01massert\u001b[39;00m \u001b[38;5;28mself\u001b[39m\u001b[38;5;241m.\u001b[39menv \u001b[38;5;129;01mis\u001b[39;00m \u001b[38;5;129;01mnot\u001b[39;00m \u001b[38;5;28;01mNone\u001b[39;00m\n\u001b[0;32m    323\u001b[0m \u001b[38;5;28;01mwhile\u001b[39;00m \u001b[38;5;28mself\u001b[39m\u001b[38;5;241m.\u001b[39mnum_timesteps \u001b[38;5;241m<\u001b[39m total_timesteps:\n\u001b[1;32m--> 324\u001b[0m     continue_training \u001b[38;5;241m=\u001b[39m \u001b[38;5;28;43mself\u001b[39;49m\u001b[38;5;241;43m.\u001b[39;49m\u001b[43mcollect_rollouts\u001b[49m\u001b[43m(\u001b[49m\u001b[38;5;28;43mself\u001b[39;49m\u001b[38;5;241;43m.\u001b[39;49m\u001b[43menv\u001b[49m\u001b[43m,\u001b[49m\u001b[43m \u001b[49m\u001b[43mcallback\u001b[49m\u001b[43m,\u001b[49m\u001b[43m \u001b[49m\u001b[38;5;28;43mself\u001b[39;49m\u001b[38;5;241;43m.\u001b[39;49m\u001b[43mrollout_buffer\u001b[49m\u001b[43m,\u001b[49m\u001b[43m \u001b[49m\u001b[43mn_rollout_steps\u001b[49m\u001b[38;5;241;43m=\u001b[39;49m\u001b[38;5;28;43mself\u001b[39;49m\u001b[38;5;241;43m.\u001b[39;49m\u001b[43mn_steps\u001b[49m\u001b[43m)\u001b[49m\n\u001b[0;32m    326\u001b[0m     \u001b[38;5;28;01mif\u001b[39;00m \u001b[38;5;129;01mnot\u001b[39;00m continue_training:\n\u001b[0;32m    327\u001b[0m         \u001b[38;5;28;01mbreak\u001b[39;00m\n",
      "File \u001b[1;32md:\\conda_env\\hf_course\\lib\\site-packages\\stable_baselines3\\common\\on_policy_algorithm.py:247\u001b[0m, in \u001b[0;36mOnPolicyAlgorithm.collect_rollouts\u001b[1;34m(self, env, callback, rollout_buffer, n_rollout_steps)\u001b[0m\n\u001b[0;32m    244\u001b[0m             terminal_value \u001b[38;5;241m=\u001b[39m \u001b[38;5;28mself\u001b[39m\u001b[38;5;241m.\u001b[39mpolicy\u001b[38;5;241m.\u001b[39mpredict_values(terminal_obs)[\u001b[38;5;241m0\u001b[39m]  \u001b[38;5;66;03m# type: ignore[arg-type]\u001b[39;00m\n\u001b[0;32m    245\u001b[0m         rewards[idx] \u001b[38;5;241m+\u001b[39m\u001b[38;5;241m=\u001b[39m \u001b[38;5;28mself\u001b[39m\u001b[38;5;241m.\u001b[39mgamma \u001b[38;5;241m*\u001b[39m terminal_value\n\u001b[1;32m--> 247\u001b[0m \u001b[43mrollout_buffer\u001b[49m\u001b[38;5;241;43m.\u001b[39;49m\u001b[43madd\u001b[49m\u001b[43m(\u001b[49m\n\u001b[0;32m    248\u001b[0m \u001b[43m    \u001b[49m\u001b[38;5;28;43mself\u001b[39;49m\u001b[38;5;241;43m.\u001b[39;49m\u001b[43m_last_obs\u001b[49m\u001b[43m,\u001b[49m\u001b[43m  \u001b[49m\u001b[38;5;66;43;03m# type: ignore[arg-type]\u001b[39;49;00m\n\u001b[0;32m    249\u001b[0m \u001b[43m    \u001b[49m\u001b[43mactions\u001b[49m\u001b[43m,\u001b[49m\n\u001b[0;32m    250\u001b[0m \u001b[43m    \u001b[49m\u001b[43mrewards\u001b[49m\u001b[43m,\u001b[49m\n\u001b[0;32m    251\u001b[0m \u001b[43m    \u001b[49m\u001b[38;5;28;43mself\u001b[39;49m\u001b[38;5;241;43m.\u001b[39;49m\u001b[43m_last_episode_starts\u001b[49m\u001b[43m,\u001b[49m\u001b[43m  \u001b[49m\u001b[38;5;66;43;03m# type: ignore[arg-type]\u001b[39;49;00m\n\u001b[0;32m    252\u001b[0m \u001b[43m    \u001b[49m\u001b[43mvalues\u001b[49m\u001b[43m,\u001b[49m\n\u001b[0;32m    253\u001b[0m \u001b[43m    \u001b[49m\u001b[43mlog_probs\u001b[49m\u001b[43m,\u001b[49m\n\u001b[0;32m    254\u001b[0m \u001b[43m\u001b[49m\u001b[43m)\u001b[49m\n\u001b[0;32m    255\u001b[0m \u001b[38;5;28mself\u001b[39m\u001b[38;5;241m.\u001b[39m_last_obs \u001b[38;5;241m=\u001b[39m new_obs  \u001b[38;5;66;03m# type: ignore[assignment]\u001b[39;00m\n\u001b[0;32m    256\u001b[0m \u001b[38;5;28mself\u001b[39m\u001b[38;5;241m.\u001b[39m_last_episode_starts \u001b[38;5;241m=\u001b[39m dones\n",
      "File \u001b[1;32md:\\conda_env\\hf_course\\lib\\site-packages\\stable_baselines3\\common\\buffers.py:476\u001b[0m, in \u001b[0;36mRolloutBuffer.add\u001b[1;34m(self, obs, action, reward, episode_start, value, log_prob)\u001b[0m\n\u001b[0;32m    474\u001b[0m \u001b[38;5;28mself\u001b[39m\u001b[38;5;241m.\u001b[39mepisode_starts[\u001b[38;5;28mself\u001b[39m\u001b[38;5;241m.\u001b[39mpos] \u001b[38;5;241m=\u001b[39m np\u001b[38;5;241m.\u001b[39marray(episode_start)\n\u001b[0;32m    475\u001b[0m \u001b[38;5;28mself\u001b[39m\u001b[38;5;241m.\u001b[39mvalues[\u001b[38;5;28mself\u001b[39m\u001b[38;5;241m.\u001b[39mpos] \u001b[38;5;241m=\u001b[39m value\u001b[38;5;241m.\u001b[39mclone()\u001b[38;5;241m.\u001b[39mcpu()\u001b[38;5;241m.\u001b[39mnumpy()\u001b[38;5;241m.\u001b[39mflatten()\n\u001b[1;32m--> 476\u001b[0m \u001b[38;5;28mself\u001b[39m\u001b[38;5;241m.\u001b[39mlog_probs[\u001b[38;5;28mself\u001b[39m\u001b[38;5;241m.\u001b[39mpos] \u001b[38;5;241m=\u001b[39m \u001b[43mlog_prob\u001b[49m\u001b[38;5;241;43m.\u001b[39;49m\u001b[43mclone\u001b[49m\u001b[43m(\u001b[49m\u001b[43m)\u001b[49m\u001b[38;5;241;43m.\u001b[39;49m\u001b[43mcpu\u001b[49m\u001b[43m(\u001b[49m\u001b[43m)\u001b[49m\u001b[38;5;241m.\u001b[39mnumpy()\n\u001b[0;32m    477\u001b[0m \u001b[38;5;28mself\u001b[39m\u001b[38;5;241m.\u001b[39mpos \u001b[38;5;241m+\u001b[39m\u001b[38;5;241m=\u001b[39m \u001b[38;5;241m1\u001b[39m\n\u001b[0;32m    478\u001b[0m \u001b[38;5;28;01mif\u001b[39;00m \u001b[38;5;28mself\u001b[39m\u001b[38;5;241m.\u001b[39mpos \u001b[38;5;241m==\u001b[39m \u001b[38;5;28mself\u001b[39m\u001b[38;5;241m.\u001b[39mbuffer_size:\n",
      "\u001b[1;31mKeyboardInterrupt\u001b[0m: "
     ]
    }
   ],
   "source": [
    "from stable_baselines3 import A2C\n",
    "env = gym.make(\"LunarLander-v3\", render_mode=\"RGB_array\")\n",
    "model = A2C(\"MlpPolicy\", env, verbose=1)\n",
    "model.learn(total_timesteps=2_000_000,progress_bar=True)"
   ]
  },
  {
   "cell_type": "code",
   "execution_count": null,
   "id": "0c787f3e",
   "metadata": {},
   "outputs": [
    {
     "data": {
      "text/html": [
       "<pre style=\"white-space:pre;overflow-x:auto;line-height:normal;font-family:Menlo,'DejaVu Sans Mono',consolas,'Courier New',monospace\">Episode finished. Total reward: [-68.28235]\n",
       "</pre>\n"
      ],
      "text/plain": [
       "Episode finished. Total reward: [-68.28235]\n"
      ]
     },
     "metadata": {},
     "output_type": "display_data"
    },
    {
     "data": {
      "text/html": [
       "<pre style=\"white-space:pre;overflow-x:auto;line-height:normal;font-family:Menlo,'DejaVu Sans Mono',consolas,'Courier New',monospace\">Episode finished. Total reward: [-40.361637]\n",
       "</pre>\n"
      ],
      "text/plain": [
       "Episode finished. Total reward: [-40.361637]\n"
      ]
     },
     "metadata": {},
     "output_type": "display_data"
    },
    {
     "data": {
      "text/html": [
       "<pre style=\"white-space:pre;overflow-x:auto;line-height:normal;font-family:Menlo,'DejaVu Sans Mono',consolas,'Courier New',monospace\">Episode finished. Total reward: [254.73499]\n",
       "</pre>\n"
      ],
      "text/plain": [
       "Episode finished. Total reward: [254.73499]\n"
      ]
     },
     "metadata": {},
     "output_type": "display_data"
    },
    {
     "data": {
      "text/html": [
       "<pre style=\"white-space:pre;overflow-x:auto;line-height:normal;font-family:Menlo,'DejaVu Sans Mono',consolas,'Courier New',monospace\">Episode finished. Total reward: [-77.63341]\n",
       "</pre>\n"
      ],
      "text/plain": [
       "Episode finished. Total reward: [-77.63341]\n"
      ]
     },
     "metadata": {},
     "output_type": "display_data"
    },
    {
     "data": {
      "text/html": [
       "<pre style=\"white-space:pre;overflow-x:auto;line-height:normal;font-family:Menlo,'DejaVu Sans Mono',consolas,'Courier New',monospace\">Episode finished. Total reward: [169.15138]\n",
       "</pre>\n"
      ],
      "text/plain": [
       "Episode finished. Total reward: [169.15138]\n"
      ]
     },
     "metadata": {},
     "output_type": "display_data"
    },
    {
     "data": {
      "text/html": [
       "<pre style=\"white-space:pre;overflow-x:auto;line-height:normal;font-family:Menlo,'DejaVu Sans Mono',consolas,'Courier New',monospace\">Episode finished. Total reward: [233.51445]\n",
       "</pre>\n"
      ],
      "text/plain": [
       "Episode finished. Total reward: [233.51445]\n"
      ]
     },
     "metadata": {},
     "output_type": "display_data"
    },
    {
     "data": {
      "text/html": [
       "<pre style=\"white-space:pre;overflow-x:auto;line-height:normal;font-family:Menlo,'DejaVu Sans Mono',consolas,'Courier New',monospace\">Episode finished. Total reward: [-35.95395]\n",
       "</pre>\n"
      ],
      "text/plain": [
       "Episode finished. Total reward: [-35.95395]\n"
      ]
     },
     "metadata": {},
     "output_type": "display_data"
    },
    {
     "data": {
      "text/html": [
       "<pre style=\"white-space:pre;overflow-x:auto;line-height:normal;font-family:Menlo,'DejaVu Sans Mono',consolas,'Courier New',monospace\">Episode finished. Total reward: [175.46959]\n",
       "</pre>\n"
      ],
      "text/plain": [
       "Episode finished. Total reward: [175.46959]\n"
      ]
     },
     "metadata": {},
     "output_type": "display_data"
    },
    {
     "data": {
      "text/html": [
       "<pre style=\"white-space:pre;overflow-x:auto;line-height:normal;font-family:Menlo,'DejaVu Sans Mono',consolas,'Courier New',monospace\">Episode finished. Total reward: [229.49904]\n",
       "</pre>\n"
      ],
      "text/plain": [
       "Episode finished. Total reward: [229.49904]\n"
      ]
     },
     "metadata": {},
     "output_type": "display_data"
    },
    {
     "data": {
      "text/html": [
       "<pre style=\"white-space:pre;overflow-x:auto;line-height:normal;font-family:Menlo,'DejaVu Sans Mono',consolas,'Courier New',monospace\">Episode finished. Total reward: [-48.349953]\n",
       "</pre>\n"
      ],
      "text/plain": [
       "Episode finished. Total reward: [-48.349953]\n"
      ]
     },
     "metadata": {},
     "output_type": "display_data"
    },
    {
     "data": {
      "text/html": [
       "<pre style=\"white-space:pre;overflow-x:auto;line-height:normal;font-family:Menlo,'DejaVu Sans Mono',consolas,'Courier New',monospace\">Episode finished. Total reward: [-28.408524]\n",
       "</pre>\n"
      ],
      "text/plain": [
       "Episode finished. Total reward: [-28.408524]\n"
      ]
     },
     "metadata": {},
     "output_type": "display_data"
    },
    {
     "data": {
      "text/html": [
       "<pre style=\"white-space:pre;overflow-x:auto;line-height:normal;font-family:Menlo,'DejaVu Sans Mono',consolas,'Courier New',monospace\">Episode finished. Total reward: [-46.38932]\n",
       "</pre>\n"
      ],
      "text/plain": [
       "Episode finished. Total reward: [-46.38932]\n"
      ]
     },
     "metadata": {},
     "output_type": "display_data"
    },
    {
     "data": {
      "text/html": [
       "<pre style=\"white-space:pre;overflow-x:auto;line-height:normal;font-family:Menlo,'DejaVu Sans Mono',consolas,'Courier New',monospace\">Episode finished. Total reward: [227.71425]\n",
       "</pre>\n"
      ],
      "text/plain": [
       "Episode finished. Total reward: [227.71425]\n"
      ]
     },
     "metadata": {},
     "output_type": "display_data"
    },
    {
     "data": {
      "text/html": [
       "<pre style=\"white-space:pre;overflow-x:auto;line-height:normal;font-family:Menlo,'DejaVu Sans Mono',consolas,'Courier New',monospace\">Episode finished. Total reward: [-82.64441]\n",
       "</pre>\n"
      ],
      "text/plain": [
       "Episode finished. Total reward: [-82.64441]\n"
      ]
     },
     "metadata": {},
     "output_type": "display_data"
    },
    {
     "data": {
      "text/html": [
       "<pre style=\"white-space:pre;overflow-x:auto;line-height:normal;font-family:Menlo,'DejaVu Sans Mono',consolas,'Courier New',monospace\">Episode finished. Total reward: [212.16476]\n",
       "</pre>\n"
      ],
      "text/plain": [
       "Episode finished. Total reward: [212.16476]\n"
      ]
     },
     "metadata": {},
     "output_type": "display_data"
    },
    {
     "data": {
      "text/html": [
       "<pre style=\"white-space:pre;overflow-x:auto;line-height:normal;font-family:Menlo,'DejaVu Sans Mono',consolas,'Courier New',monospace\">Episode finished. Total reward: [165.9693]\n",
       "</pre>\n"
      ],
      "text/plain": [
       "Episode finished. Total reward: [165.9693]\n"
      ]
     },
     "metadata": {},
     "output_type": "display_data"
    },
    {
     "data": {
      "text/html": [
       "<pre style=\"white-space:pre;overflow-x:auto;line-height:normal;font-family:Menlo,'DejaVu Sans Mono',consolas,'Courier New',monospace\">Episode finished. Total reward: [-75.64757]\n",
       "</pre>\n"
      ],
      "text/plain": [
       "Episode finished. Total reward: [-75.64757]\n"
      ]
     },
     "metadata": {},
     "output_type": "display_data"
    },
    {
     "data": {
      "text/html": [
       "<pre style=\"white-space:pre;overflow-x:auto;line-height:normal;font-family:Menlo,'DejaVu Sans Mono',consolas,'Courier New',monospace\">Episode finished. Total reward: [123.15522]\n",
       "</pre>\n"
      ],
      "text/plain": [
       "Episode finished. Total reward: [123.15522]\n"
      ]
     },
     "metadata": {},
     "output_type": "display_data"
    },
    {
     "data": {
      "text/html": [
       "<pre style=\"white-space:pre;overflow-x:auto;line-height:normal;font-family:Menlo,'DejaVu Sans Mono',consolas,'Courier New',monospace\">Episode finished. Total reward: [-69.54472]\n",
       "</pre>\n"
      ],
      "text/plain": [
       "Episode finished. Total reward: [-69.54472]\n"
      ]
     },
     "metadata": {},
     "output_type": "display_data"
    },
    {
     "data": {
      "text/html": [
       "<pre style=\"white-space:pre;overflow-x:auto;line-height:normal;font-family:Menlo,'DejaVu Sans Mono',consolas,'Courier New',monospace\">Episode finished. Total reward: [-44.484974]\n",
       "</pre>\n"
      ],
      "text/plain": [
       "Episode finished. Total reward: [-44.484974]\n"
      ]
     },
     "metadata": {},
     "output_type": "display_data"
    },
    {
     "data": {
      "text/html": [
       "<pre style=\"white-space:pre;overflow-x:auto;line-height:normal;font-family:Menlo,'DejaVu Sans Mono',consolas,'Courier New',monospace\">Episode finished. Total reward: [-17.78482]\n",
       "</pre>\n"
      ],
      "text/plain": [
       "Episode finished. Total reward: [-17.78482]\n"
      ]
     },
     "metadata": {},
     "output_type": "display_data"
    },
    {
     "data": {
      "text/html": [
       "<pre style=\"white-space:pre;overflow-x:auto;line-height:normal;font-family:Menlo,'DejaVu Sans Mono',consolas,'Courier New',monospace\">Episode finished. Total reward: [142.69821]\n",
       "</pre>\n"
      ],
      "text/plain": [
       "Episode finished. Total reward: [142.69821]\n"
      ]
     },
     "metadata": {},
     "output_type": "display_data"
    },
    {
     "data": {
      "text/html": [
       "<pre style=\"white-space:pre;overflow-x:auto;line-height:normal;font-family:Menlo,'DejaVu Sans Mono',consolas,'Courier New',monospace\">Episode finished. Total reward: [-86.08979]\n",
       "</pre>\n"
      ],
      "text/plain": [
       "Episode finished. Total reward: [-86.08979]\n"
      ]
     },
     "metadata": {},
     "output_type": "display_data"
    },
    {
     "data": {
      "text/html": [
       "<pre style=\"white-space:pre;overflow-x:auto;line-height:normal;font-family:Menlo,'DejaVu Sans Mono',consolas,'Courier New',monospace\">Episode finished. Total reward: [-73.95849]\n",
       "</pre>\n"
      ],
      "text/plain": [
       "Episode finished. Total reward: [-73.95849]\n"
      ]
     },
     "metadata": {},
     "output_type": "display_data"
    },
    {
     "data": {
      "text/html": [
       "<pre style=\"white-space:pre;overflow-x:auto;line-height:normal;font-family:Menlo,'DejaVu Sans Mono',consolas,'Courier New',monospace\">Episode finished. Total reward: [-105.27391]\n",
       "</pre>\n"
      ],
      "text/plain": [
       "Episode finished. Total reward: [-105.27391]\n"
      ]
     },
     "metadata": {},
     "output_type": "display_data"
    },
    {
     "data": {
      "text/html": [
       "<pre style=\"white-space:pre;overflow-x:auto;line-height:normal;font-family:Menlo,'DejaVu Sans Mono',consolas,'Courier New',monospace\">Episode finished. Total reward: [-46.176125]\n",
       "</pre>\n"
      ],
      "text/plain": [
       "Episode finished. Total reward: [-46.176125]\n"
      ]
     },
     "metadata": {},
     "output_type": "display_data"
    },
    {
     "data": {
      "text/html": [
       "<pre style=\"white-space:pre;overflow-x:auto;line-height:normal;font-family:Menlo,'DejaVu Sans Mono',consolas,'Courier New',monospace\">Episode finished. Total reward: [-36.077656]\n",
       "</pre>\n"
      ],
      "text/plain": [
       "Episode finished. Total reward: [-36.077656]\n"
      ]
     },
     "metadata": {},
     "output_type": "display_data"
    },
    {
     "data": {
      "text/html": [
       "<pre style=\"white-space:pre;overflow-x:auto;line-height:normal;font-family:Menlo,'DejaVu Sans Mono',consolas,'Courier New',monospace\">Episode finished. Total reward: [215.9607]\n",
       "</pre>\n"
      ],
      "text/plain": [
       "Episode finished. Total reward: [215.9607]\n"
      ]
     },
     "metadata": {},
     "output_type": "display_data"
    },
    {
     "data": {
      "text/html": [
       "<pre style=\"white-space:pre;overflow-x:auto;line-height:normal;font-family:Menlo,'DejaVu Sans Mono',consolas,'Courier New',monospace\">Episode finished. Total reward: [-42.37643]\n",
       "</pre>\n"
      ],
      "text/plain": [
       "Episode finished. Total reward: [-42.37643]\n"
      ]
     },
     "metadata": {},
     "output_type": "display_data"
    },
    {
     "data": {
      "text/html": [
       "<pre style=\"white-space:pre;overflow-x:auto;line-height:normal;font-family:Menlo,'DejaVu Sans Mono',consolas,'Courier New',monospace\">Episode finished. Total reward: [233.83452]\n",
       "</pre>\n"
      ],
      "text/plain": [
       "Episode finished. Total reward: [233.83452]\n"
      ]
     },
     "metadata": {},
     "output_type": "display_data"
    },
    {
     "data": {
      "text/html": [
       "<pre style=\"white-space:pre;overflow-x:auto;line-height:normal;font-family:Menlo,'DejaVu Sans Mono',consolas,'Courier New',monospace\">Episode finished. Total reward: [-41.379204]\n",
       "</pre>\n"
      ],
      "text/plain": [
       "Episode finished. Total reward: [-41.379204]\n"
      ]
     },
     "metadata": {},
     "output_type": "display_data"
    },
    {
     "data": {
      "text/html": [
       "<pre style=\"white-space:pre;overflow-x:auto;line-height:normal;font-family:Menlo,'DejaVu Sans Mono',consolas,'Courier New',monospace\">Episode finished. Total reward: [191.9602]\n",
       "</pre>\n"
      ],
      "text/plain": [
       "Episode finished. Total reward: [191.9602]\n"
      ]
     },
     "metadata": {},
     "output_type": "display_data"
    },
    {
     "data": {
      "text/html": [
       "<pre style=\"white-space:pre;overflow-x:auto;line-height:normal;font-family:Menlo,'DejaVu Sans Mono',consolas,'Courier New',monospace\">Episode finished. Total reward: [257.8693]\n",
       "</pre>\n"
      ],
      "text/plain": [
       "Episode finished. Total reward: [257.8693]\n"
      ]
     },
     "metadata": {},
     "output_type": "display_data"
    },
    {
     "data": {
      "text/html": [
       "<pre style=\"white-space:pre;overflow-x:auto;line-height:normal;font-family:Menlo,'DejaVu Sans Mono',consolas,'Courier New',monospace\">Episode finished. Total reward: [229.10149]\n",
       "</pre>\n"
      ],
      "text/plain": [
       "Episode finished. Total reward: [229.10149]\n"
      ]
     },
     "metadata": {},
     "output_type": "display_data"
    },
    {
     "data": {
      "text/html": [
       "<pre style=\"white-space:pre;overflow-x:auto;line-height:normal;font-family:Menlo,'DejaVu Sans Mono',consolas,'Courier New',monospace\">Episode finished. Total reward: [-59.49829]\n",
       "</pre>\n"
      ],
      "text/plain": [
       "Episode finished. Total reward: [-59.49829]\n"
      ]
     },
     "metadata": {},
     "output_type": "display_data"
    },
    {
     "data": {
      "text/html": [
       "<pre style=\"white-space:pre;overflow-x:auto;line-height:normal;font-family:Menlo,'DejaVu Sans Mono',consolas,'Courier New',monospace\">Episode finished. Total reward: [192.58232]\n",
       "</pre>\n"
      ],
      "text/plain": [
       "Episode finished. Total reward: [192.58232]\n"
      ]
     },
     "metadata": {},
     "output_type": "display_data"
    },
    {
     "data": {
      "text/html": [
       "<pre style=\"white-space:pre;overflow-x:auto;line-height:normal;font-family:Menlo,'DejaVu Sans Mono',consolas,'Courier New',monospace\">Episode finished. Total reward: [-11.711914]\n",
       "</pre>\n"
      ],
      "text/plain": [
       "Episode finished. Total reward: [-11.711914]\n"
      ]
     },
     "metadata": {},
     "output_type": "display_data"
    },
    {
     "data": {
      "text/html": [
       "<pre style=\"white-space:pre;overflow-x:auto;line-height:normal;font-family:Menlo,'DejaVu Sans Mono',consolas,'Courier New',monospace\">Episode finished. Total reward: [-81.30591]\n",
       "</pre>\n"
      ],
      "text/plain": [
       "Episode finished. Total reward: [-81.30591]\n"
      ]
     },
     "metadata": {},
     "output_type": "display_data"
    },
    {
     "data": {
      "text/html": [
       "<pre style=\"white-space:pre;overflow-x:auto;line-height:normal;font-family:Menlo,'DejaVu Sans Mono',consolas,'Courier New',monospace\">Episode finished. Total reward: [-29.553017]\n",
       "</pre>\n"
      ],
      "text/plain": [
       "Episode finished. Total reward: [-29.553017]\n"
      ]
     },
     "metadata": {},
     "output_type": "display_data"
    },
    {
     "data": {
      "text/html": [
       "<pre style=\"white-space:pre;overflow-x:auto;line-height:normal;font-family:Menlo,'DejaVu Sans Mono',consolas,'Courier New',monospace\">Episode finished. Total reward: [153.19763]\n",
       "</pre>\n"
      ],
      "text/plain": [
       "Episode finished. Total reward: [153.19763]\n"
      ]
     },
     "metadata": {},
     "output_type": "display_data"
    },
    {
     "data": {
      "text/html": [
       "<pre style=\"white-space:pre;overflow-x:auto;line-height:normal;font-family:Menlo,'DejaVu Sans Mono',consolas,'Courier New',monospace\">Episode finished. Total reward: [-27.027763]\n",
       "</pre>\n"
      ],
      "text/plain": [
       "Episode finished. Total reward: [-27.027763]\n"
      ]
     },
     "metadata": {},
     "output_type": "display_data"
    },
    {
     "data": {
      "text/html": [
       "<pre style=\"white-space:pre;overflow-x:auto;line-height:normal;font-family:Menlo,'DejaVu Sans Mono',consolas,'Courier New',monospace\">Episode finished. Total reward: [-42.15857]\n",
       "</pre>\n"
      ],
      "text/plain": [
       "Episode finished. Total reward: [-42.15857]\n"
      ]
     },
     "metadata": {},
     "output_type": "display_data"
    },
    {
     "data": {
      "text/html": [
       "<pre style=\"white-space:pre;overflow-x:auto;line-height:normal;font-family:Menlo,'DejaVu Sans Mono',consolas,'Courier New',monospace\">Episode finished. Total reward: [137.43661]\n",
       "</pre>\n"
      ],
      "text/plain": [
       "Episode finished. Total reward: [137.43661]\n"
      ]
     },
     "metadata": {},
     "output_type": "display_data"
    },
    {
     "data": {
      "text/html": [
       "<pre style=\"white-space:pre;overflow-x:auto;line-height:normal;font-family:Menlo,'DejaVu Sans Mono',consolas,'Courier New',monospace\">Episode finished. Total reward: [-26.223366]\n",
       "</pre>\n"
      ],
      "text/plain": [
       "Episode finished. Total reward: [-26.223366]\n"
      ]
     },
     "metadata": {},
     "output_type": "display_data"
    },
    {
     "data": {
      "text/html": [
       "<pre style=\"white-space:pre;overflow-x:auto;line-height:normal;font-family:Menlo,'DejaVu Sans Mono',consolas,'Courier New',monospace\">Episode finished. Total reward: [216.72174]\n",
       "</pre>\n"
      ],
      "text/plain": [
       "Episode finished. Total reward: [216.72174]\n"
      ]
     },
     "metadata": {},
     "output_type": "display_data"
    },
    {
     "data": {
      "text/html": [
       "<pre style=\"white-space:pre;overflow-x:auto;line-height:normal;font-family:Menlo,'DejaVu Sans Mono',consolas,'Courier New',monospace\">Episode finished. Total reward: [-61.021954]\n",
       "</pre>\n"
      ],
      "text/plain": [
       "Episode finished. Total reward: [-61.021954]\n"
      ]
     },
     "metadata": {},
     "output_type": "display_data"
    },
    {
     "data": {
      "text/html": [
       "<pre style=\"white-space:pre;overflow-x:auto;line-height:normal;font-family:Menlo,'DejaVu Sans Mono',consolas,'Courier New',monospace\">Episode finished. Total reward: [242.01245]\n",
       "</pre>\n"
      ],
      "text/plain": [
       "Episode finished. Total reward: [242.01245]\n"
      ]
     },
     "metadata": {},
     "output_type": "display_data"
    },
    {
     "data": {
      "text/html": [
       "<pre style=\"white-space:pre;overflow-x:auto;line-height:normal;font-family:Menlo,'DejaVu Sans Mono',consolas,'Courier New',monospace\">Episode finished. Total reward: [262.63263]\n",
       "</pre>\n"
      ],
      "text/plain": [
       "Episode finished. Total reward: [262.63263]\n"
      ]
     },
     "metadata": {},
     "output_type": "display_data"
    },
    {
     "data": {
      "text/html": [
       "<pre style=\"white-space:pre;overflow-x:auto;line-height:normal;font-family:Menlo,'DejaVu Sans Mono',consolas,'Courier New',monospace\">Episode finished. Total reward: [111.588005]\n",
       "</pre>\n"
      ],
      "text/plain": [
       "Episode finished. Total reward: [111.588005]\n"
      ]
     },
     "metadata": {},
     "output_type": "display_data"
    },
    {
     "data": {
      "text/html": [
       "<pre style=\"white-space:pre;overflow-x:auto;line-height:normal;font-family:Menlo,'DejaVu Sans Mono',consolas,'Courier New',monospace\">Episode finished. Total reward: [-47.863625]\n",
       "</pre>\n"
      ],
      "text/plain": [
       "Episode finished. Total reward: [-47.863625]\n"
      ]
     },
     "metadata": {},
     "output_type": "display_data"
    },
    {
     "data": {
      "text/html": [
       "<pre style=\"white-space:pre;overflow-x:auto;line-height:normal;font-family:Menlo,'DejaVu Sans Mono',consolas,'Courier New',monospace\">Episode finished. Total reward: [214.99332]\n",
       "</pre>\n"
      ],
      "text/plain": [
       "Episode finished. Total reward: [214.99332]\n"
      ]
     },
     "metadata": {},
     "output_type": "display_data"
    },
    {
     "data": {
      "text/html": [
       "<pre style=\"white-space:pre;overflow-x:auto;line-height:normal;font-family:Menlo,'DejaVu Sans Mono',consolas,'Courier New',monospace\">Episode finished. Total reward: [-57.606842]\n",
       "</pre>\n"
      ],
      "text/plain": [
       "Episode finished. Total reward: [-57.606842]\n"
      ]
     },
     "metadata": {},
     "output_type": "display_data"
    },
    {
     "data": {
      "text/html": [
       "<pre style=\"white-space:pre;overflow-x:auto;line-height:normal;font-family:Menlo,'DejaVu Sans Mono',consolas,'Courier New',monospace\">Episode finished. Total reward: [163.13127]\n",
       "</pre>\n"
      ],
      "text/plain": [
       "Episode finished. Total reward: [163.13127]\n"
      ]
     },
     "metadata": {},
     "output_type": "display_data"
    },
    {
     "data": {
      "text/html": [
       "<pre style=\"white-space:pre;overflow-x:auto;line-height:normal;font-family:Menlo,'DejaVu Sans Mono',consolas,'Courier New',monospace\">Episode finished. Total reward: [197.11812]\n",
       "</pre>\n"
      ],
      "text/plain": [
       "Episode finished. Total reward: [197.11812]\n"
      ]
     },
     "metadata": {},
     "output_type": "display_data"
    },
    {
     "data": {
      "text/html": [
       "<pre style=\"white-space:pre;overflow-x:auto;line-height:normal;font-family:Menlo,'DejaVu Sans Mono',consolas,'Courier New',monospace\">Episode finished. Total reward: [-73.61808]\n",
       "</pre>\n"
      ],
      "text/plain": [
       "Episode finished. Total reward: [-73.61808]\n"
      ]
     },
     "metadata": {},
     "output_type": "display_data"
    },
    {
     "data": {
      "text/html": [
       "<pre style=\"white-space:pre;overflow-x:auto;line-height:normal;font-family:Menlo,'DejaVu Sans Mono',consolas,'Courier New',monospace\">Episode finished. Total reward: [226.00572]\n",
       "</pre>\n"
      ],
      "text/plain": [
       "Episode finished. Total reward: [226.00572]\n"
      ]
     },
     "metadata": {},
     "output_type": "display_data"
    },
    {
     "data": {
      "text/html": [
       "<pre style=\"white-space:pre;overflow-x:auto;line-height:normal;font-family:Menlo,'DejaVu Sans Mono',consolas,'Courier New',monospace\">Episode finished. Total reward: [-35.65335]\n",
       "</pre>\n"
      ],
      "text/plain": [
       "Episode finished. Total reward: [-35.65335]\n"
      ]
     },
     "metadata": {},
     "output_type": "display_data"
    },
    {
     "data": {
      "text/html": [
       "<pre style=\"white-space:pre;overflow-x:auto;line-height:normal;font-family:Menlo,'DejaVu Sans Mono',consolas,'Courier New',monospace\">Episode finished. Total reward: [177.45401]\n",
       "</pre>\n"
      ],
      "text/plain": [
       "Episode finished. Total reward: [177.45401]\n"
      ]
     },
     "metadata": {},
     "output_type": "display_data"
    },
    {
     "data": {
      "text/html": [
       "<pre style=\"white-space:pre;overflow-x:auto;line-height:normal;font-family:Menlo,'DejaVu Sans Mono',consolas,'Courier New',monospace\">Episode finished. Total reward: [-62.792324]\n",
       "</pre>\n"
      ],
      "text/plain": [
       "Episode finished. Total reward: [-62.792324]\n"
      ]
     },
     "metadata": {},
     "output_type": "display_data"
    },
    {
     "data": {
      "text/html": [
       "<pre style=\"white-space:pre;overflow-x:auto;line-height:normal;font-family:Menlo,'DejaVu Sans Mono',consolas,'Courier New',monospace\">Episode finished. Total reward: [-59.70017]\n",
       "</pre>\n"
      ],
      "text/plain": [
       "Episode finished. Total reward: [-59.70017]\n"
      ]
     },
     "metadata": {},
     "output_type": "display_data"
    },
    {
     "data": {
      "text/html": [
       "<pre style=\"white-space:pre;overflow-x:auto;line-height:normal;font-family:Menlo,'DejaVu Sans Mono',consolas,'Courier New',monospace\">Episode finished. Total reward: [-106.58348]\n",
       "</pre>\n"
      ],
      "text/plain": [
       "Episode finished. Total reward: [-106.58348]\n"
      ]
     },
     "metadata": {},
     "output_type": "display_data"
    },
    {
     "data": {
      "text/html": [
       "<pre style=\"white-space:pre;overflow-x:auto;line-height:normal;font-family:Menlo,'DejaVu Sans Mono',consolas,'Courier New',monospace\">Episode finished. Total reward: [-17.384712]\n",
       "</pre>\n"
      ],
      "text/plain": [
       "Episode finished. Total reward: [-17.384712]\n"
      ]
     },
     "metadata": {},
     "output_type": "display_data"
    },
    {
     "data": {
      "text/html": [
       "<pre style=\"white-space:pre;overflow-x:auto;line-height:normal;font-family:Menlo,'DejaVu Sans Mono',consolas,'Courier New',monospace\">Episode finished. Total reward: [-62.248142]\n",
       "</pre>\n"
      ],
      "text/plain": [
       "Episode finished. Total reward: [-62.248142]\n"
      ]
     },
     "metadata": {},
     "output_type": "display_data"
    },
    {
     "data": {
      "text/html": [
       "<pre style=\"white-space:pre;overflow-x:auto;line-height:normal;font-family:Menlo,'DejaVu Sans Mono',consolas,'Courier New',monospace\">Episode finished. Total reward: [192.91376]\n",
       "</pre>\n"
      ],
      "text/plain": [
       "Episode finished. Total reward: [192.91376]\n"
      ]
     },
     "metadata": {},
     "output_type": "display_data"
    },
    {
     "data": {
      "text/html": [
       "<pre style=\"white-space:pre;overflow-x:auto;line-height:normal;font-family:Menlo,'DejaVu Sans Mono',consolas,'Courier New',monospace\">Episode finished. Total reward: [147.61598]\n",
       "</pre>\n"
      ],
      "text/plain": [
       "Episode finished. Total reward: [147.61598]\n"
      ]
     },
     "metadata": {},
     "output_type": "display_data"
    },
    {
     "data": {
      "text/html": [
       "<pre style=\"white-space:pre;overflow-x:auto;line-height:normal;font-family:Menlo,'DejaVu Sans Mono',consolas,'Courier New',monospace\">Episode finished. Total reward: [-100.1338]\n",
       "</pre>\n"
      ],
      "text/plain": [
       "Episode finished. Total reward: [-100.1338]\n"
      ]
     },
     "metadata": {},
     "output_type": "display_data"
    },
    {
     "data": {
      "text/html": [
       "<pre style=\"white-space:pre;overflow-x:auto;line-height:normal;font-family:Menlo,'DejaVu Sans Mono',consolas,'Courier New',monospace\">Episode finished. Total reward: [-68.87506]\n",
       "</pre>\n"
      ],
      "text/plain": [
       "Episode finished. Total reward: [-68.87506]\n"
      ]
     },
     "metadata": {},
     "output_type": "display_data"
    },
    {
     "data": {
      "text/html": [
       "<pre style=\"white-space:pre;overflow-x:auto;line-height:normal;font-family:Menlo,'DejaVu Sans Mono',consolas,'Courier New',monospace\">Episode finished. Total reward: [211.56439]\n",
       "</pre>\n"
      ],
      "text/plain": [
       "Episode finished. Total reward: [211.56439]\n"
      ]
     },
     "metadata": {},
     "output_type": "display_data"
    },
    {
     "data": {
      "text/html": [
       "<pre style=\"white-space:pre;overflow-x:auto;line-height:normal;font-family:Menlo,'DejaVu Sans Mono',consolas,'Courier New',monospace\">Episode finished. Total reward: [-61.809967]\n",
       "</pre>\n"
      ],
      "text/plain": [
       "Episode finished. Total reward: [-61.809967]\n"
      ]
     },
     "metadata": {},
     "output_type": "display_data"
    },
    {
     "data": {
      "text/html": [
       "<pre style=\"white-space:pre;overflow-x:auto;line-height:normal;font-family:Menlo,'DejaVu Sans Mono',consolas,'Courier New',monospace\">Episode finished. Total reward: [-52.863777]\n",
       "</pre>\n"
      ],
      "text/plain": [
       "Episode finished. Total reward: [-52.863777]\n"
      ]
     },
     "metadata": {},
     "output_type": "display_data"
    },
    {
     "data": {
      "text/html": [
       "<pre style=\"white-space:pre;overflow-x:auto;line-height:normal;font-family:Menlo,'DejaVu Sans Mono',consolas,'Courier New',monospace\">Episode finished. Total reward: [205.2088]\n",
       "</pre>\n"
      ],
      "text/plain": [
       "Episode finished. Total reward: [205.2088]\n"
      ]
     },
     "metadata": {},
     "output_type": "display_data"
    },
    {
     "data": {
      "text/html": [
       "<pre style=\"white-space:pre;overflow-x:auto;line-height:normal;font-family:Menlo,'DejaVu Sans Mono',consolas,'Courier New',monospace\">Episode finished. Total reward: [223.01935]\n",
       "</pre>\n"
      ],
      "text/plain": [
       "Episode finished. Total reward: [223.01935]\n"
      ]
     },
     "metadata": {},
     "output_type": "display_data"
    },
    {
     "data": {
      "text/html": [
       "<pre style=\"white-space:pre;overflow-x:auto;line-height:normal;font-family:Menlo,'DejaVu Sans Mono',consolas,'Courier New',monospace\">Episode finished. Total reward: [-19.544006]\n",
       "</pre>\n"
      ],
      "text/plain": [
       "Episode finished. Total reward: [-19.544006]\n"
      ]
     },
     "metadata": {},
     "output_type": "display_data"
    },
    {
     "data": {
      "text/html": [
       "<pre style=\"white-space:pre;overflow-x:auto;line-height:normal;font-family:Menlo,'DejaVu Sans Mono',consolas,'Courier New',monospace\">Episode finished. Total reward: [-34.436234]\n",
       "</pre>\n"
      ],
      "text/plain": [
       "Episode finished. Total reward: [-34.436234]\n"
      ]
     },
     "metadata": {},
     "output_type": "display_data"
    },
    {
     "data": {
      "text/html": [
       "<pre style=\"white-space:pre;overflow-x:auto;line-height:normal;font-family:Menlo,'DejaVu Sans Mono',consolas,'Courier New',monospace\">Episode finished. Total reward: [0.29566956]\n",
       "</pre>\n"
      ],
      "text/plain": [
       "Episode finished. Total reward: [0.29566956]\n"
      ]
     },
     "metadata": {},
     "output_type": "display_data"
    },
    {
     "data": {
      "text/html": [
       "<pre style=\"white-space:pre;overflow-x:auto;line-height:normal;font-family:Menlo,'DejaVu Sans Mono',consolas,'Courier New',monospace\">Episode finished. Total reward: [-8.361038]\n",
       "</pre>\n"
      ],
      "text/plain": [
       "Episode finished. Total reward: [-8.361038]\n"
      ]
     },
     "metadata": {},
     "output_type": "display_data"
    },
    {
     "data": {
      "text/html": [
       "<pre style=\"white-space:pre;overflow-x:auto;line-height:normal;font-family:Menlo,'DejaVu Sans Mono',consolas,'Courier New',monospace\">Episode finished. Total reward: [216.37097]\n",
       "</pre>\n"
      ],
      "text/plain": [
       "Episode finished. Total reward: [216.37097]\n"
      ]
     },
     "metadata": {},
     "output_type": "display_data"
    },
    {
     "data": {
      "text/html": [
       "<pre style=\"white-space:pre;overflow-x:auto;line-height:normal;font-family:Menlo,'DejaVu Sans Mono',consolas,'Courier New',monospace\">Episode finished. Total reward: [220.59639]\n",
       "</pre>\n"
      ],
      "text/plain": [
       "Episode finished. Total reward: [220.59639]\n"
      ]
     },
     "metadata": {},
     "output_type": "display_data"
    },
    {
     "data": {
      "text/html": [
       "<pre style=\"white-space:pre;overflow-x:auto;line-height:normal;font-family:Menlo,'DejaVu Sans Mono',consolas,'Courier New',monospace\">Episode finished. Total reward: [253.24619]\n",
       "</pre>\n"
      ],
      "text/plain": [
       "Episode finished. Total reward: [253.24619]\n"
      ]
     },
     "metadata": {},
     "output_type": "display_data"
    },
    {
     "data": {
      "text/html": [
       "<pre style=\"white-space:pre;overflow-x:auto;line-height:normal;font-family:Menlo,'DejaVu Sans Mono',consolas,'Courier New',monospace\">Episode finished. Total reward: [-68.44646]\n",
       "</pre>\n"
      ],
      "text/plain": [
       "Episode finished. Total reward: [-68.44646]\n"
      ]
     },
     "metadata": {},
     "output_type": "display_data"
    },
    {
     "data": {
      "text/html": [
       "<pre style=\"white-space:pre;overflow-x:auto;line-height:normal;font-family:Menlo,'DejaVu Sans Mono',consolas,'Courier New',monospace\">Episode finished. Total reward: [-58.41895]\n",
       "</pre>\n"
      ],
      "text/plain": [
       "Episode finished. Total reward: [-58.41895]\n"
      ]
     },
     "metadata": {},
     "output_type": "display_data"
    },
    {
     "data": {
      "text/html": [
       "<pre style=\"white-space:pre;overflow-x:auto;line-height:normal;font-family:Menlo,'DejaVu Sans Mono',consolas,'Courier New',monospace\">Episode finished. Total reward: [-70.30022]\n",
       "</pre>\n"
      ],
      "text/plain": [
       "Episode finished. Total reward: [-70.30022]\n"
      ]
     },
     "metadata": {},
     "output_type": "display_data"
    },
    {
     "data": {
      "text/html": [
       "<pre style=\"white-space:pre;overflow-x:auto;line-height:normal;font-family:Menlo,'DejaVu Sans Mono',consolas,'Courier New',monospace\">Episode finished. Total reward: [-65.779366]\n",
       "</pre>\n"
      ],
      "text/plain": [
       "Episode finished. Total reward: [-65.779366]\n"
      ]
     },
     "metadata": {},
     "output_type": "display_data"
    },
    {
     "data": {
      "text/html": [
       "<pre style=\"white-space:pre;overflow-x:auto;line-height:normal;font-family:Menlo,'DejaVu Sans Mono',consolas,'Courier New',monospace\">Episode finished. Total reward: [187.96967]\n",
       "</pre>\n"
      ],
      "text/plain": [
       "Episode finished. Total reward: [187.96967]\n"
      ]
     },
     "metadata": {},
     "output_type": "display_data"
    },
    {
     "data": {
      "text/html": [
       "<pre style=\"white-space:pre;overflow-x:auto;line-height:normal;font-family:Menlo,'DejaVu Sans Mono',consolas,'Courier New',monospace\">Episode finished. Total reward: [221.5003]\n",
       "</pre>\n"
      ],
      "text/plain": [
       "Episode finished. Total reward: [221.5003]\n"
      ]
     },
     "metadata": {},
     "output_type": "display_data"
    },
    {
     "data": {
      "text/html": [
       "<pre style=\"white-space:pre;overflow-x:auto;line-height:normal;font-family:Menlo,'DejaVu Sans Mono',consolas,'Courier New',monospace\">Episode finished. Total reward: [-62.205257]\n",
       "</pre>\n"
      ],
      "text/plain": [
       "Episode finished. Total reward: [-62.205257]\n"
      ]
     },
     "metadata": {},
     "output_type": "display_data"
    },
    {
     "data": {
      "text/html": [
       "<pre style=\"white-space:pre;overflow-x:auto;line-height:normal;font-family:Menlo,'DejaVu Sans Mono',consolas,'Courier New',monospace\">Episode finished. Total reward: [-96.7775]\n",
       "</pre>\n"
      ],
      "text/plain": [
       "Episode finished. Total reward: [-96.7775]\n"
      ]
     },
     "metadata": {},
     "output_type": "display_data"
    },
    {
     "data": {
      "text/html": [
       "<pre style=\"white-space:pre;overflow-x:auto;line-height:normal;font-family:Menlo,'DejaVu Sans Mono',consolas,'Courier New',monospace\">Episode finished. Total reward: [-52.77932]\n",
       "</pre>\n"
      ],
      "text/plain": [
       "Episode finished. Total reward: [-52.77932]\n"
      ]
     },
     "metadata": {},
     "output_type": "display_data"
    },
    {
     "data": {
      "text/html": [
       "<pre style=\"white-space:pre;overflow-x:auto;line-height:normal;font-family:Menlo,'DejaVu Sans Mono',consolas,'Courier New',monospace\">Episode finished. Total reward: [208.1845]\n",
       "</pre>\n"
      ],
      "text/plain": [
       "Episode finished. Total reward: [208.1845]\n"
      ]
     },
     "metadata": {},
     "output_type": "display_data"
    },
    {
     "data": {
      "text/html": [
       "<pre style=\"white-space:pre;overflow-x:auto;line-height:normal;font-family:Menlo,'DejaVu Sans Mono',consolas,'Courier New',monospace\">Episode finished. Total reward: [268.00424]\n",
       "</pre>\n"
      ],
      "text/plain": [
       "Episode finished. Total reward: [268.00424]\n"
      ]
     },
     "metadata": {},
     "output_type": "display_data"
    },
    {
     "data": {
      "text/html": [
       "<pre style=\"white-space:pre;overflow-x:auto;line-height:normal;font-family:Menlo,'DejaVu Sans Mono',consolas,'Courier New',monospace\">Episode finished. Total reward: [-63.0477]\n",
       "</pre>\n"
      ],
      "text/plain": [
       "Episode finished. Total reward: [-63.0477]\n"
      ]
     },
     "metadata": {},
     "output_type": "display_data"
    },
    {
     "data": {
      "text/html": [
       "<pre style=\"white-space:pre;overflow-x:auto;line-height:normal;font-family:Menlo,'DejaVu Sans Mono',consolas,'Courier New',monospace\">Episode finished. Total reward: [164.34593]\n",
       "</pre>\n"
      ],
      "text/plain": [
       "Episode finished. Total reward: [164.34593]\n"
      ]
     },
     "metadata": {},
     "output_type": "display_data"
    },
    {
     "data": {
      "text/html": [
       "<pre style=\"white-space:pre;overflow-x:auto;line-height:normal;font-family:Menlo,'DejaVu Sans Mono',consolas,'Courier New',monospace\">Episode finished. Total reward: [174.7286]\n",
       "</pre>\n"
      ],
      "text/plain": [
       "Episode finished. Total reward: [174.7286]\n"
      ]
     },
     "metadata": {},
     "output_type": "display_data"
    },
    {
     "data": {
      "text/html": [
       "<pre style=\"white-space:pre;overflow-x:auto;line-height:normal;font-family:Menlo,'DejaVu Sans Mono',consolas,'Courier New',monospace\">Episode finished. Total reward: [-26.220024]\n",
       "</pre>\n"
      ],
      "text/plain": [
       "Episode finished. Total reward: [-26.220024]\n"
      ]
     },
     "metadata": {},
     "output_type": "display_data"
    },
    {
     "data": {
      "text/html": [
       "<pre style=\"white-space:pre;overflow-x:auto;line-height:normal;font-family:Menlo,'DejaVu Sans Mono',consolas,'Courier New',monospace\">Episode finished. Total reward: [-54.282497]\n",
       "</pre>\n"
      ],
      "text/plain": [
       "Episode finished. Total reward: [-54.282497]\n"
      ]
     },
     "metadata": {},
     "output_type": "display_data"
    },
    {
     "data": {
      "text/html": [
       "<pre style=\"white-space:pre;overflow-x:auto;line-height:normal;font-family:Menlo,'DejaVu Sans Mono',consolas,'Courier New',monospace\">Episode finished. Total reward: [-67.33652]\n",
       "</pre>\n"
      ],
      "text/plain": [
       "Episode finished. Total reward: [-67.33652]\n"
      ]
     },
     "metadata": {},
     "output_type": "display_data"
    },
    {
     "data": {
      "text/html": [
       "<pre style=\"white-space:pre;overflow-x:auto;line-height:normal;font-family:Menlo,'DejaVu Sans Mono',consolas,'Courier New',monospace\">Episode finished. Total reward: [-93.90072]\n",
       "</pre>\n"
      ],
      "text/plain": [
       "Episode finished. Total reward: [-93.90072]\n"
      ]
     },
     "metadata": {},
     "output_type": "display_data"
    },
    {
     "data": {
      "text/html": [
       "<pre style=\"white-space:pre;overflow-x:auto;line-height:normal;font-family:Menlo,'DejaVu Sans Mono',consolas,'Courier New',monospace\">Episode finished. Total reward: [-55.50323]\n",
       "</pre>\n"
      ],
      "text/plain": [
       "Episode finished. Total reward: [-55.50323]\n"
      ]
     },
     "metadata": {},
     "output_type": "display_data"
    },
    {
     "data": {
      "text/html": [
       "<pre style=\"white-space:pre;overflow-x:auto;line-height:normal;font-family:Menlo,'DejaVu Sans Mono',consolas,'Courier New',monospace\">Episode finished. Total reward: [69.95711]\n",
       "</pre>\n"
      ],
      "text/plain": [
       "Episode finished. Total reward: [69.95711]\n"
      ]
     },
     "metadata": {},
     "output_type": "display_data"
    },
    {
     "data": {
      "text/html": [
       "<pre style=\"white-space:pre;overflow-x:auto;line-height:normal;font-family:Menlo,'DejaVu Sans Mono',consolas,'Courier New',monospace\">Episode finished. Total reward: [200.08209]\n",
       "</pre>\n"
      ],
      "text/plain": [
       "Episode finished. Total reward: [200.08209]\n"
      ]
     },
     "metadata": {},
     "output_type": "display_data"
    },
    {
     "data": {
      "text/html": [
       "<pre style=\"white-space:pre;overflow-x:auto;line-height:normal;font-family:Menlo,'DejaVu Sans Mono',consolas,'Courier New',monospace\">Average reward over 100 episodes: 54.13484191894531\n",
       "</pre>\n"
      ],
      "text/plain": [
       "Average reward over 100 episodes: 54.13484191894531\n"
      ]
     },
     "metadata": {},
     "output_type": "display_data"
    }
   ],
   "source": [
    "vec_env = model.get_env()\n",
    "obs = vec_env.reset()\n",
    "rewards = []\n",
    "for episode in range(100):\n",
    "    total_rewards = 0\n",
    "    while True:\n",
    "        action, _states = model.predict(obs, deterministic=True)\n",
    "        obs, reward, done, info = vec_env.step(action)\n",
    "        total_rewards += reward\n",
    "        if done:\n",
    "            rewards.append(total_rewards)\n",
    "            print(f\"Episode finished. Total reward: {total_rewards}\")\n",
    "            break\n",
    "        # VecEnv resets automatically\n",
    "        # if done:\n",
    "        #   obs = env.reset()\n",
    "print(f\"Average reward over 100 episodes: {np.mean(rewards)}\")"
   ]
  },
  {
   "cell_type": "code",
   "execution_count": 22,
   "id": "95f976ad",
   "metadata": {},
   "outputs": [
    {
     "data": {
      "image/png": "[encoded data removed]",
      "text/plain": [
       "<Figure size 640x480 with 1 Axes>"
      ]
     },
     "metadata": {},
     "output_type": "display_data"
    }
   ],
   "source": [
    "plt.hist(np.array(rewards).flatten(), bins=30, color='skyblue', edgecolor='black')\n",
    "plt.show()"
   ]
  },
  {
   "cell_type": "code",
   "execution_count": null,
   "id": "4a6ba0da",
   "metadata": {},
   "outputs": [
    {
     "ename": "AttributeError",
     "evalue": "'list' object has no attribute 'var'",
     "output_type": "error",
     "traceback": [
      "\u001b[1;31m---------------------------------------------------------------------------\u001b[0m",
      "\u001b[1;31mAttributeError\u001b[0m                            Traceback (most recent call last)",
      "Cell \u001b[1;32mIn[16], line 1\u001b[0m\n\u001b[1;32m----> 1\u001b[0m \u001b[43mrewards\u001b[49m\u001b[38;5;241;43m.\u001b[39;49m\u001b[43mvar\u001b[49m()\n",
      "\u001b[1;31mAttributeError\u001b[0m: 'list' object has no attribute 'var'"
     ]
    }
   ],
   "source": [
    "rewards"
   ]
  },
  {
   "cell_type": "code",
   "execution_count": null,
   "id": "15da1f1c",
   "metadata": {},
   "outputs": [],
   "source": [
    "torch.save(agent.pi.state_dict(), \"./models/a2c_lunarlander.pth.pi\")\n",
    "torch.save(agent.v.state_dict(), \"./models/a2c_lunarlander.pth.v\")"
   ]
  },
  {
   "cell_type": "code",
   "execution_count": null,
   "id": "d428ae51",
   "metadata": {},
   "outputs": [],
   "source": [
    "agent.load(\"./models/a2c_lunarlander.pth\")"
   ]
  },
  {
   "cell_type": "code",
   "execution_count": null,
   "id": "41b7d1b4",
   "metadata": {},
   "outputs": [],
   "source": []
  },
  {
   "cell_type": "code",
   "execution_count": 14,
   "id": "a7f8cdb8",
   "metadata": {},
   "outputs": [
    {
     "data": {
      "image/png": "[encoded data removed]",
      "text/plain": [
       "<Figure size 800x500 with 1 Axes>"
      ]
     },
     "metadata": {},
     "output_type": "display_data"
    }
   ],
   "source": [
    "test_agent(agent)"
   ]
  },
  {
   "cell_type": "code",
   "execution_count": 8,
   "id": "9bd06478",
   "metadata": {},
   "outputs": [
    {
     "name": "stderr",
     "output_type": "stream",
     "text": [
      "IMAGEIO FFMPEG_WRITER WARNING: input image is not divisible by macro_block_size=16, resizing from (600, 400) to (608, 400) to ensure video compatibility with most codecs and players. To prevent resizing, make your input image divisible by the macro_block_size or set the macro_block_size to 1 (risking incompatibility).\n"
     ]
    }
   ],
   "source": [
    "save_video(agent, env,'a2c_lunarlander.mp4')"
   ]
  },
  {
   "cell_type": "code",
   "execution_count": null,
   "id": "14c22144",
   "metadata": {},
   "outputs": [
    {
     "ename": "NameError",
     "evalue": "name 'config' is not defined",
     "output_type": "error",
     "traceback": [
      "\u001b[1;31m---------------------------------------------------------------------------\u001b[0m",
      "\u001b[1;31mNameError\u001b[0m                                 Traceback (most recent call last)",
      "Cell \u001b[1;32mIn[2], line 1\u001b[0m\n\u001b[1;32m----> 1\u001b[0m episodes \u001b[38;5;241m=\u001b[39m \u001b[43mconfig\u001b[49m[\u001b[38;5;124m'\u001b[39m\u001b[38;5;124mepisodes\u001b[39m\u001b[38;5;124m'\u001b[39m]\n\u001b[0;32m      2\u001b[0m env_vec \u001b[38;5;241m=\u001b[39m gym\u001b[38;5;241m.\u001b[39mmake_vec(\u001b[38;5;124m\"\u001b[39m\u001b[38;5;124mLunarLander-v3\u001b[39m\u001b[38;5;124m\"\u001b[39m, num_envs\u001b[38;5;241m=\u001b[39mconfig[\u001b[38;5;124m'\u001b[39m\u001b[38;5;124mnum_env\u001b[39m\u001b[38;5;124m'\u001b[39m], vectorization_mode\u001b[38;5;241m=\u001b[39m\u001b[38;5;124m\"\u001b[39m\u001b[38;5;124msync\u001b[39m\u001b[38;5;124m\"\u001b[39m) \u001b[38;5;66;03m# 同步环境向量\u001b[39;00m\n\u001b[0;32m      4\u001b[0m writer \u001b[38;5;241m=\u001b[39m SummaryWriter(comment\u001b[38;5;241m=\u001b[39m\u001b[38;5;124m\"\u001b[39m\u001b[38;5;124mA2C\u001b[39m\u001b[38;5;124m\"\u001b[39m)\n",
      "\u001b[1;31mNameError\u001b[0m: name 'config' is not defined"
     ]
    }
   ],
   "source": []
  },
  {
   "cell_type": "code",
   "execution_count": null,
   "id": "d937406b",
   "metadata": {},
   "outputs": [],
   "source": []
  }
 ],
 "metadata": {
  "kernelspec": {
   "display_name": "hf_course",
   "language": "python",
   "name": "python3"
  },
  "language_info": {
   "codemirror_mode": {
    "name": "ipython",
    "version": 3
   },
   "file_extension": ".py",
   "mimetype": "text/x-python",
   "name": "python",
   "nbconvert_exporter": "python",
   "pygments_lexer": "ipython3",
   "version": "3.10.18"
  }
 },
 "nbformat": 4,
 "nbformat_minor": 5
}
