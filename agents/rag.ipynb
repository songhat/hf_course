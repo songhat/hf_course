{
 "cells": [
  {
   "cell_type": "code",
   "execution_count": 8,
   "metadata": {},
   "outputs": [],
   "source": [
    "import datasets\n",
    "from langchain.docstore.document import Document\n",
    "\n",
    "# 加载数据集\n",
    "guest_dataset = datasets.load_dataset(\"agents-course/unit3-invitees\", split=\"train\")\n",
    "\n",
    "# 转换为 Document 对象\n",
    "docs = [\n",
    "    Document(\n",
    "        page_content=\"\\n\".join([\n",
    "            f\"Name: {guest['name']}\",\n",
    "            f\"Relation: {guest['relation']}\",\n",
    "            f\"Description: {guest['description']}\",\n",
    "            f\"Email: {guest['email']}\"\n",
    "        ]),\n",
    "        metadata={\"name\": guest[\"name\"]}\n",
    "    )\n",
    "    for guest in guest_dataset\n",
    "]"
   ]
  },
  {
   "cell_type": "code",
   "execution_count": 9,
   "metadata": {},
   "outputs": [],
   "source": [
    "from langchain_community.retrievers import BM25Retriever\n",
    "from langchain.tools import Tool\n",
    "\n",
    "bm25_retriever = BM25Retriever.from_documents(docs)\n",
    "\n",
    "def extract_text(query: str) -> str:\n",
    "    \"\"\"Retrieves detailed information about gala guests based on their name or relation.\"\"\"\n",
    "    results = bm25_retriever.invoke(query)\n",
    "    if results:\n",
    "        return \"\\n\\n\".join([doc.page_content for doc in results[:3]])\n",
    "    else:\n",
    "        return \"No matching guest information found.\"\n",
    "\n",
    "guest_info_tool = Tool(\n",
    "    name=\"guest_info_retriever\",\n",
    "    func=extract_text,\n",
    "    description=\"Retrieves detailed information about gala guests based on their name or relation.\"\n",
    ")"
   ]
  },
  {
   "cell_type": "code",
   "execution_count": null,
   "metadata": {},
   "outputs": [
    {
     "data": {
      "image/png": "[encoded data removed]",
      "text/plain": [
       "<IPython.core.display.Image object>"
      ]
     },
     "metadata": {},
     "output_type": "display_data"
    }
   ],
   "source": [
    "from typing import TypedDict, Annotated\n",
    "from langgraph.graph.message import add_messages\n",
    "from langchain_core.messages import AnyMessage, HumanMessage, AIMessage\n",
    "from langgraph.prebuilt import ToolNode\n",
    "from langgraph.graph import START, StateGraph\n",
    "from langgraph.prebuilt import tools_condition\n",
    "from langchain_openai import ChatOpenAI\n",
    "from IPython.display import Image, display\n",
    "\n",
    "# 生成聊天界面，包括工具\n",
    "chat = ChatOpenAI(\n",
    "        model=\"deepseek-chat\",\n",
    "        openai_api_key=\"\",  # 替换为您的DeepSeek API密钥\n",
    "        openai_api_base=\"https://api.deepseek.com/v1\",\n",
    "        verbose=True\n",
    "    )\n",
    "    \n",
    "tools = [guest_info_tool]\n",
    "chat_with_tools = chat.bind_tools(tools)\n",
    "\n",
    "# 生成 AgentState 和 Agent 图\n",
    "class AgentState(TypedDict):\n",
    "    messages: Annotated[list[AnyMessage], add_messages]\n",
    "\n",
    "def assistant(state: AgentState):\n",
    "    return {\n",
    "        \"messages\": [chat_with_tools.invoke(state[\"messages\"])],\n",
    "    }\n",
    "\n",
    "## 构建流程图\n",
    "builder = StateGraph(AgentState)\n",
    "\n",
    "# 定义节点：这些节点完成工作\n",
    "builder.add_node(\"assistant\", assistant)\n",
    "builder.add_node(\"tools\", ToolNode(tools))\n",
    "\n",
    "# 定义边：这些决定了控制流如何移动\n",
    "builder.add_edge(START, \"assistant\")\n",
    "builder.add_conditional_edges(\n",
    "    \"assistant\",\n",
    "    # If the latest message requires a tool, route to tools\n",
    "    # Otherwise, provide a direct response\n",
    "    tools_condition,\n",
    ")\n",
    "builder.add_edge(\"tools\", \"assistant\")\n",
    "alfred = builder.compile()\n",
    "\n",
    "display(Image(alfred.get_graph().draw_mermaid_png()))"
   ]
  },
  {
   "cell_type": "code",
   "execution_count": 32,
   "metadata": {},
   "outputs": [
    {
     "name": "stdout",
     "output_type": "stream",
     "text": [
      "🎩 Alfred's Response:\n",
      "Here's the information about our guest, Lady Ada Lovelace:\n",
      "\n",
      "- **Name:** Ada Lovelace  \n",
      "- **Relation:** Best friend  \n",
      "- **Description:** Lady Ada Lovelace is an esteemed mathematician and a close friend. She is renowned for her pioneering work in mathematics and computing, often celebrated as the first computer programmer due to her work on Charles Babbage's Analytical Engine.  \n",
      "- **Email:** ada.lovelace@example.com  \n",
      "\n",
      "Let me know if you'd like to connect with her or need any further details!\n"
     ]
    }
   ],
   "source": [
    "# 重新初始化Alfred代理\n",
    "messages = [\n",
    "    HumanMessage(content=\"Tell me about our guest named 'Lady Ada Lovelace'.\")\n",
    "]\n",
    "response = alfred.invoke({\"messages\": messages})\n",
    "print(\"🎩 Alfred's Response:\")\n",
    "print(response['messages'][-1].content)"
   ]
  },
  {
   "cell_type": "code",
   "execution_count": 33,
   "metadata": {},
   "outputs": [
    {
     "name": "stdout",
     "output_type": "stream",
     "text": [
      "Emmanuel Macron (born December 21, 1977, Amiens, France) is a French banker and politician who was elected president of France in 2017. Macron was the first person in the history of the Fifth Republic to win the presidency without the backing of either the Socialists or the Gaullists, and he was France's youngest head of state since Napoleon I.He was reelected in 2022, becoming the first ... Welcome to the official website of the President of France The President's latest news All news 19 May 2025 8th Edition of the Choose France Summit. 22 June 2025 E3 leaders' declaration on the situation in the Middle East. 17 June 2025 G7 Leaders' Statement ... France, one of the world's most influential nations, is led by a head of state with significant domestic and international responsibilities. As of 2025, the President of France is Emmanuel Macron, a centrist leader known for his ambitious reforms, pro-European stance, and distinctive personality. This article explores who Emmanuel Macron is ... Emmanuel Macron is the current President of France. Emmanuel Macron was born on December 21, 1977, in Amiens, France. He is a former investment banker who founded the centrist En Marche! Movement in 2016. Macron won the presidency in 2017. He made history by being the first to win without backing from major parties. French President Emmanuel Macron has unveiled his new government almost three months after a snap general election delivered a hung parliament. The long-awaited new line up, led by Prime Minister ...\n"
     ]
    }
   ],
   "source": [
    "from langchain_community.tools import DuckDuckGoSearchRun\n",
    "\n",
    "search_tool = DuckDuckGoSearchRun()\n",
    "results = search_tool.invoke(\"Who's the current President of France?\")\n",
    "print(results)"
   ]
  },
  {
   "cell_type": "code",
   "execution_count": 34,
   "metadata": {},
   "outputs": [],
   "source": [
    "from langchain.tools import Tool\n",
    "import random\n",
    "\n",
    "def get_weather_info(location: str) -> str:\n",
    "    \"\"\"Fetches dummy weather information for a given location.\"\"\"\n",
    "    # 虚拟天气数据\n",
    "    weather_conditions = [\n",
    "        {\"condition\": \"Rainy\", \"temp_c\": 15},\n",
    "        {\"condition\": \"Clear\", \"temp_c\": 25},\n",
    "        {\"condition\": \"Windy\", \"temp_c\": 20}\n",
    "    ]\n",
    "    # 随机选择一种天气状况\n",
    "    data = random.choice(weather_conditions)\n",
    "    return f\"Weather in {location}: {data['condition']}, {data['temp_c']}°C\"\n",
    "\n",
    "# 初始化工具\n",
    "weather_info_tool = Tool(\n",
    "    name=\"get_weather_info\",\n",
    "    func=get_weather_info,\n",
    "    description=\"Fetches dummy weather information for a given location.\"\n",
    ")"
   ]
  },
  {
   "cell_type": "code",
   "execution_count": 36,
   "metadata": {},
   "outputs": [
    {
     "name": "stdout",
     "output_type": "stream",
     "text": [
      "The most downloaded model by facebook is facebook/opt-125m with 4,759,379 downloads.\n"
     ]
    }
   ],
   "source": [
    "from langchain.tools import Tool\n",
    "from huggingface_hub import list_models\n",
    "\n",
    "def get_hub_stats(author: str) -> str:\n",
    "    \"\"\"Fetches the most downloaded model from a specific author on the Hugging Face Hub.\"\"\"\n",
    "    try:\n",
    "        # 列出指定作者的模型，按下载次数排序\n",
    "        models = list(list_models(author=author, sort=\"downloads\", direction=-1, limit=1))\n",
    "\n",
    "        if models:\n",
    "            model = models[0]\n",
    "            return f\"The most downloaded model by {author} is {model.id} with {model.downloads:,} downloads.\"\n",
    "        else:\n",
    "            return f\"No models found for author {author}.\"\n",
    "    except Exception as e:\n",
    "        return f\"Error fetching models for {author}: {str(e)}\"\n",
    "\n",
    "# 初始化工具\n",
    "hub_stats_tool = Tool(\n",
    "    name=\"get_hub_stats\",\n",
    "    func=get_hub_stats,\n",
    "    description=\"Fetches the most downloaded model from a specific author on the Hugging Face Hub.\"\n",
    ")\n",
    "\n",
    "# 示例用法\n",
    "print(hub_stats_tool(\"facebook\")) # Example: Get the most downloaded model by Facebook"
   ]
  },
  {
   "cell_type": "code",
   "execution_count": 38,
   "metadata": {},
   "outputs": [
    {
     "data": {
      "image/png": "[encoded data removed]",
      "text/plain": [
       "<IPython.core.display.Image object>"
      ]
     },
     "metadata": {},
     "output_type": "display_data"
    }
   ],
   "source": [
    "from typing import TypedDict, Annotated\n",
    "from langgraph.graph.message import add_messages\n",
    "from langchain_core.messages import AnyMessage, HumanMessage, AIMessage\n",
    "from langgraph.prebuilt import ToolNode\n",
    "from langgraph.graph import START, StateGraph\n",
    "from langgraph.prebuilt import tools_condition\n",
    "from langchain_huggingface import HuggingFaceEndpoint, ChatHuggingFace\n",
    "\n",
    "# 生成聊天界面，包括工具\n",
    "chat = ChatOpenAI(\n",
    "        model=\"deepseek-chat\",\n",
    "        openai_api_key=\"sk-e5965c4427e647e080f38e4fc50d95e0\",  # 替换为您的DeepSeek API密钥\n",
    "        openai_api_base=\"https://api.deepseek.com/v1\",\n",
    "        verbose=True\n",
    "    )\n",
    "    \n",
    "tools = [search_tool, weather_info_tool, hub_stats_tool]\n",
    "chat_with_tools = chat.bind_tools(tools)\n",
    "\n",
    "# 生成 AgentState 和 Agent 图\n",
    "class AgentState(TypedDict):\n",
    "    messages: Annotated[list[AnyMessage], add_messages]\n",
    "\n",
    "def assistant(state: AgentState):\n",
    "    return {\n",
    "        \"messages\": [chat_with_tools.invoke(state[\"messages\"])],\n",
    "    }\n",
    "\n",
    "## 构建流程图\n",
    "builder = StateGraph(AgentState)\n",
    "\n",
    "# 定义节点：这些节点完成工作\n",
    "builder.add_node(\"assistant\", assistant)\n",
    "builder.add_node(\"tools\", ToolNode(tools))\n",
    "\n",
    "# 定义边：这些决定了控制流如何移动\n",
    "builder.add_edge(START, \"assistant\")\n",
    "builder.add_conditional_edges(\n",
    "    \"assistant\",\n",
    "    # If the latest message requires a tool, route to tools\n",
    "    # Otherwise, provide a direct response\n",
    "    tools_condition,\n",
    ")\n",
    "builder.add_edge(\"tools\", \"assistant\")\n",
    "alfred = builder.compile()\n",
    "\n",
    "display(Image(alfred.get_graph().draw_mermaid_png()))"
   ]
  },
  {
   "cell_type": "code",
   "execution_count": 40,
   "metadata": {},
   "outputs": [
    {
     "name": "stdout",
     "output_type": "stream",
     "text": [
      "🎩 Alfred's Response:\n",
      "Facebook, now known as Meta, is a multinational technology company founded by Mark Zuckerberg in 2004. It is best known for its social media platform, Facebook, but the company also owns other popular platforms like Instagram, WhatsApp, and Oculus. Meta is heavily involved in artificial intelligence (AI) research and development, particularly in areas like natural language processing (NLP), computer vision, and virtual reality.\n",
      "\n",
      "One of Meta's most popular AI models is **Llama (Large Language Model Meta AI)**. The latest version, **Llama 2**, was released in 2023 and is an open-source large language model designed for a variety of applications, including chatbots, content generation, and more. Llama 2 has gained significant attention for its performance and accessibility, as it is available for both research and commercial use.\n",
      "\n",
      "Would you like more details about Llama 2 or Meta's other AI initiatives?\n"
     ]
    }
   ],
   "source": [
    "messages = [HumanMessage(content=\"Who is Facebook and what's their most popular model?\")]\n",
    "response = alfred.invoke({\"messages\": messages})\n",
    "\n",
    "print(\"🎩 Alfred's Response:\")\n",
    "print(response['messages'][-1].content)"
   ]
  },
  {
   "cell_type": "code",
   "execution_count": 42,
   "metadata": {},
   "outputs": [],
   "source": [
    "from typing import TypedDict, Annotated\n",
    "from langgraph.graph.message import add_messages\n",
    "from langchain_core.messages import AnyMessage, HumanMessage, AIMessage\n",
    "from langgraph.prebuilt import ToolNode\n",
    "from langgraph.graph import START, StateGraph\n",
    "from langgraph.prebuilt import tools_condition\n",
    "from langchain_huggingface import HuggingFaceEndpoint, ChatHuggingFace\n",
    "\n",
    "from tools import DuckDuckGoSearchRun, weather_info_tool, hub_stats_tool\n",
    "from retriever import guest_info_tool"
   ]
  },
  {
   "cell_type": "code",
   "execution_count": 45,
   "metadata": {},
   "outputs": [
    {
     "data": {
      "image/png": "[encoded data removed]",
      "text/plain": [
       "<IPython.core.display.Image object>"
      ]
     },
     "metadata": {},
     "output_type": "display_data"
    }
   ],
   "source": [
    "# 初始化网络搜索工具\n",
    "search_tool = DuckDuckGoSearchRun()\n",
    "\n",
    "# 生成包含工具的聊天接口\n",
    "chat = ChatOpenAI(\n",
    "        model=\"deepseek-chat\",\n",
    "        openai_api_key=\"sk-e5965c4427e647e080f38e4fc50d95e0\",  # 替换为您的DeepSeek API密钥\n",
    "        openai_api_base=\"https://api.deepseek.com/v1\",\n",
    "        verbose=True\n",
    "    )\n",
    "\n",
    "tools = [guest_info_tool, search_tool, weather_info_tool, hub_stats_tool]\n",
    "chat_with_tools = chat.bind_tools(tools)\n",
    "\n",
    "# 生成 AgentState 和 Agent 图\n",
    "class AgentState(TypedDict):\n",
    "    messages: Annotated[list[AnyMessage], add_messages]\n",
    "\n",
    "def assistant(state: AgentState):\n",
    "    return {\n",
    "        \"messages\": [chat_with_tools.invoke(state[\"messages\"])],\n",
    "    }\n",
    "\n",
    "##  构建流程图\n",
    "builder = StateGraph(AgentState)\n",
    "\n",
    "# 定义节点：执行具体工作\n",
    "builder.add_node(\"assistant\", assistant)\n",
    "builder.add_node(\"tools\", ToolNode(tools))\n",
    "\n",
    "# 定义边：控制流程走向\n",
    "builder.add_edge(START, \"assistant\")\n",
    "builder.add_conditional_edges(\n",
    "    \"assistant\",\n",
    "    # 如果最新消息需要工具调用，则路由到 tools 节点\n",
    "    # 否则直接响应\n",
    "    tools_condition,\n",
    ")\n",
    "builder.add_edge(\"tools\", \"assistant\")\n",
    "alfred = builder.compile()\n",
    "display(Image(alfred.get_graph().draw_mermaid_png()))"
   ]
  },
  {
   "cell_type": "code",
   "execution_count": 48,
   "metadata": {},
   "outputs": [
    {
     "name": "stdout",
     "output_type": "stream",
     "text": [
      "🎩 Alfred's Response:\n",
      "Ada Lovelace, born Augusta Ada Byron on December 10, 1815, was an English mathematician and writer, often celebrated as the world's first computer programmer. She was the daughter of the famous poet Lord Byron and mathematician Annabella Milbanke. Her parents' marriage was tumultuous, and her mother encouraged her interest in mathematics and logic to steer her away from her father's perceived erratic behavior.\n",
      "\n",
      "### Key Contributions:\n",
      "1. **Collaboration with Charles Babbage**: Ada Lovelace worked closely with Charles Babbage, the inventor of the Analytical Engine, a mechanical general-purpose computer. She translated an article about the engine and added extensive notes, including an algorithm designed to be processed by the machine. This is considered the first published algorithm intended for a computer, earning her the title of the first computer programmer.\n",
      "\n",
      "2. **Visionary Insights**: Lovelace foresaw the potential of computers beyond mere calculation, suggesting they could be used for music, art, and other creative endeavors—a concept far ahead of her time.\n",
      "\n",
      "### Legacy:\n",
      "- **Ada Lovelace Day**: Celebrated on the second Tuesday of October, this day honors women's contributions to science, technology, engineering, and mathematics (STEM).\n",
      "- **Recognition**: She is a symbol of innovation and inspiration in the fields of computing and technology.\n",
      "\n",
      "Ada Lovelace's work laid the foundation for modern computing, and her legacy continues to inspire future generations in STEM fields.\n"
     ]
    }
   ],
   "source": [
    "response = alfred.invoke({\"messages\": \"Tell me about 'Lady Ada Lovelace'\"})\n",
    "\n",
    "print(\"🎩 Alfred's Response:\")\n",
    "print(response['messages'][-1].content)"
   ]
  },
  {
   "cell_type": "code",
   "execution_count": 49,
   "metadata": {},
   "outputs": [
    {
     "name": "stdout",
     "output_type": "stream",
     "text": [
      "🎩 Alfred's Response:\n",
      "The weather in Paris tonight is windy with a temperature of 20°C. \n",
      "\n",
      "For a fireworks display, wind can be a concern as it may affect the trajectory and visibility of the fireworks. You may want to check the wind speed and direction to ensure it's safe and suitable for the display. Would you like me to find more specific details about the wind conditions?\n"
     ]
    }
   ],
   "source": [
    "response = alfred.invoke({\"messages\": \"What's the weather like in Paris tonight? Will it be suitable for our fireworks display?\"})\n",
    "\n",
    "print(\"🎩 Alfred's Response:\")\n",
    "print(response['messages'][-1].content)"
   ]
  },
  {
   "cell_type": "code",
   "execution_count": 50,
   "metadata": {},
   "outputs": [
    {
     "name": "stdout",
     "output_type": "stream",
     "text": [
      "🎩 Alfred's Response:\n",
      "The most popular model by Qwen is **Qwen/Qwen2-7B-Instruct**, which has been downloaded **9,713,862 times**. Let me know if you'd like more details about this model or anything else!\n"
     ]
    }
   ],
   "source": [
    "response = alfred.invoke({\"messages\": \"One of our guests is from Qwen. What can you tell me about their most popular model?\"})\n",
    "\n",
    "print(\"🎩 Alfred's Response:\")\n",
    "print(response['messages'][-1].content)"
   ]
  },
  {
   "cell_type": "code",
   "execution_count": 51,
   "metadata": {},
   "outputs": [
    {
     "name": "stdout",
     "output_type": "stream",
     "text": [
      "🎩 Alfred's Response:\n",
      "Dr. Nikola Tesla is an old friend from your university days who has recently patented a new wireless energy transmission system. He would be delighted to discuss this with you. Here are some key points to prepare for your conversation:\n",
      "\n",
      "### Topics to Discuss:\n",
      "1. **Wireless Energy Transmission System**:\n",
      "   - Ask about the specifics of his new patent.\n",
      "   - Inquire about how it differs from existing technologies.\n",
      "   - Discuss potential applications and scalability.\n",
      "\n",
      "2. **Recent Advancements**:\n",
      "   - Ask about any breakthroughs or challenges he has encountered.\n",
      "   - Discuss the future of wireless energy and its impact on society.\n",
      "\n",
      "3. **Personal Touch**:\n",
      "   - Mention his passion for pigeons as an icebreaker. For example, \"How are your pigeons doing these days?\"\n",
      "\n",
      "### Contact Information:\n",
      "- **Email**: nikola.tesla@gmail.com  \n",
      "  You can reach out to him directly to set up a meeting or continue the conversation.\n",
      "\n",
      "Would you like me to draft an email for you to send to Dr. Tesla?\n"
     ]
    }
   ],
   "source": [
    "response = alfred.invoke({\"messages\":\"I need to speak with 'Dr. Nikola Tesla' about recent advancements in wireless energy. Can you help me prepare for this conversation?\"})\n",
    "\n",
    "print(\"🎩 Alfred's Response:\")\n",
    "print(response['messages'][-1].content)"
   ]
  },
  {
   "cell_type": "code",
   "execution_count": 58,
   "metadata": {},
   "outputs": [
    {
     "name": "stdout",
     "output_type": "stream",
     "text": [
      "🎩 Alfred's Response:\n",
      "### About Lady Ada Lovelace\n",
      "\n",
      "**Background:**\n",
      "Ada Lovelace, born Augusta Ada Byron on December 10, 1815, was an English mathematician and writer. She is best known for her work on Charles Babbage's proposed mechanical general-purpose computer, the Analytical Engine. Ada was the first to recognize that the machine had applications beyond pure calculation, and she wrote what is considered the first algorithm intended to be processed by a machine. This earned her the title of the \"first computer programmer.\"\n",
      "\n",
      "Her father was the famous poet Lord Byron, but Ada was raised by her mother, Lady Anne Isabella Milbanke, after her parents separated. Despite a challenging childhood, Ada developed a keen interest in mathematics and science, which was encouraged by her tutors. She collaborated closely with Charles Babbage and became a visionary in the field of computing, foreseeing the potential of computers long before they became a reality.\n",
      "\n",
      "Ada Lovelace passed away on November 27, 1852, but her legacy lives on, especially in the celebration of Ada Lovelace Day, which honors women's contributions to science and technology.\n",
      "\n",
      "**Relation to You:**\n",
      "According to the guest information, Ada Lovelace is listed as your **best friend**. She is described as an esteemed mathematician and friend, renowned for her pioneering work in mathematics and computing. Her email is provided as `ada.lovelace@example.com`, so you can reach out to her directly if you'd like to reconnect or discuss her work further. \n",
      "\n",
      "Would you like to know more about her contributions or how you might collaborate with her?\n",
      "\n",
      "🎩 Alfred's Response:\n",
      "The guest information doesn't provide specific details about Ada Lovelace's current projects. However, given her historical significance as the first computer programmer and her pioneering work with Charles Babbage's Analytical Engine, she might be involved in theoretical or symbolic computing projects, or perhaps mentoring the next generation of mathematicians and programmers.\n",
      "\n",
      "If you'd like to know more, you could reach out to her directly via her email: **ada.lovelace@example.com**. Would you like help drafting a message to her?\n"
     ]
    }
   ],
   "source": [
    "# 首次交互\n",
    "response = alfred.invoke({\"messages\": [HumanMessage(content=\"Tell me about 'Lady Ada Lovelace'. What's her background and how is she related to me?\")]})\n",
    "\n",
    "\n",
    "print(\"🎩 Alfred's Response:\")\n",
    "print(response['messages'][-1].content)\n",
    "print()\n",
    "\n",
    "# 二次交互（引用首次内容）\n",
    "response = alfred.invoke({\"messages\": response[\"messages\"] + [HumanMessage(content=\"What projects is she currently working on?\")]})\n",
    "\n",
    "print(\"🎩 Alfred's Response:\")\n",
    "print(response['messages'][-1].content)"
   ]
  },
  {
   "cell_type": "code",
   "execution_count": 59,
   "metadata": {},
   "outputs": [
    {
     "data": {
      "text/plain": [
       "[HumanMessage(content=\"Tell me about 'Lady Ada Lovelace'. What's her background and how is she related to me?\", additional_kwargs={}, response_metadata={}, id='a8855b99-50a9-4554-b081-4c5195f47bd6'),\n",
       " AIMessage(content='', additional_kwargs={'tool_calls': [{'id': 'call_0_00a0115a-26f7-43c8-9440-f1493e1ffc4a', 'function': {'arguments': '{\"query\": \"Lady Ada Lovelace background\"}', 'name': 'duckduckgo_search'}, 'type': 'function', 'index': 0}, {'id': 'call_1_4d1a7c39-f665-454e-8811-a324c16cf465', 'function': {'arguments': '{\"__arg1\":\"Lady Ada Lovelace\"}', 'name': 'guest_info_retriever'}, 'type': 'function', 'index': 1}], 'refusal': None}, response_metadata={'token_usage': {'completion_tokens': 55, 'prompt_tokens': 466, 'total_tokens': 521, 'completion_tokens_details': None, 'prompt_tokens_details': {'audio_tokens': None, 'cached_tokens': 448}, 'prompt_cache_hit_tokens': 448, 'prompt_cache_miss_tokens': 18}, 'model_name': 'deepseek-chat', 'system_fingerprint': 'fp_8802369eaa_prod0623_fp8_kvcache', 'id': 'fb4d6668-d325-456a-8f12-6d96ed39e5a0', 'service_tier': None, 'finish_reason': 'tool_calls', 'logprobs': None}, id='run--cafdcd66-4ae3-4860-88bc-90b0cf217bff-0', tool_calls=[{'name': 'duckduckgo_search', 'args': {'query': 'Lady Ada Lovelace background'}, 'id': 'call_0_00a0115a-26f7-43c8-9440-f1493e1ffc4a', 'type': 'tool_call'}, {'name': 'guest_info_retriever', 'args': {'__arg1': 'Lady Ada Lovelace'}, 'id': 'call_1_4d1a7c39-f665-454e-8811-a324c16cf465', 'type': 'tool_call'}], usage_metadata={'input_tokens': 466, 'output_tokens': 55, 'total_tokens': 521, 'input_token_details': {'cache_read': 448}, 'output_token_details': {}}),\n",
       " ToolMessage(content='Ada Lovelace, English mathematician, an associate of Charles Babbage, for whose digital computer prototype, the Analytical Engine, she created a program in 1843. She has been called the first computer programmer. Ada Lovelace Day, the second Tuesday in October, honors women\\'s contributions to science and technology. Augusta Ada King, Countess of Lovelace (née Byron; 10 December 1815 - 27 November 1852), also known as Ada Lovelace, was an English mathematician and writer chiefly known for her work on Charles Babbage \\'s proposed mechanical general-purpose computer, the Analytical Engine. She was the first to recognise that the machine had applications beyond pure calculation. Lovelace was the only ... Lovelace and her mother were not close, and Lovelace was left in the care of her maternal grandmother, Lady Milbanke. During this time, Lady Byron had to present herself as a loving mother to society to show maternal concern and keep custody of Lovelace. At 12, Ada decided she wanted to fly. Her first project was to construct wings. She examined the anatomy of birds and investigated different ... Meet the \"Mother of Programming\", Ada Lovelace Ada overcame a tragic and lonely childhood to carve her place in history as world\\'s first computer programmer. Ada, Countess of Lovelace is said to be the first computer programmer because of her work with Charles Babbage on his Analytical Engine. She was a brilliant mathematician and writer, skilled in both mathematics and science. Her father was the poet Lord Byron, infamous for his many scandalous affairs. Augusta Ada Byron was born to parents Lord George Gordon Byron and Lady Anne Isabella ...', name='duckduckgo_search', id='020c2cec-ed1b-4b58-9460-38732d790f99', tool_call_id='call_0_00a0115a-26f7-43c8-9440-f1493e1ffc4a'),\n",
       " ToolMessage(content=\"Name: Ada Lovelace\\nRelation: best friend\\nDescription: Lady Ada Lovelace is my best friend. She is an esteemed mathematician and friend. She is renowned for her pioneering work in mathematics and computing, often celebrated as the first computer programmer due to her work on Charles Babbage's Analytical Engine.\\nEmail: ada.lovelace@example.com\\n\\nName: Marie Curie\\nRelation: no relation\\nDescription: Marie Curie was a groundbreaking physicist and chemist, famous for her research on radioactivity.\\nEmail: marie.curie@example.com\\n\\nName: Dr. Nikola Tesla\\nRelation: old friend from university days\\nDescription: Dr. Nikola Tesla is an old friend from your university days. He's recently patented a new wireless energy transmission system and would be delighted to discuss it with you. Just remember he's passionate about pigeons, so that might make for good small talk.\\nEmail: nikola.tesla@gmail.com\", name='guest_info_retriever', id='da0749c1-5181-4b1f-a45d-ca004e1dbde3', tool_call_id='call_1_4d1a7c39-f665-454e-8811-a324c16cf465'),\n",
       " AIMessage(content='### About Lady Ada Lovelace\\n\\n**Background:**\\nAda Lovelace, born Augusta Ada Byron on December 10, 1815, was an English mathematician and writer. She is best known for her work on Charles Babbage\\'s proposed mechanical general-purpose computer, the Analytical Engine. Ada was the first to recognize that the machine had applications beyond pure calculation, and she wrote what is considered the first algorithm intended to be processed by a machine. This earned her the title of the \"first computer programmer.\"\\n\\nHer father was the famous poet Lord Byron, but Ada was raised by her mother, Lady Anne Isabella Milbanke, after her parents separated. Despite a challenging childhood, Ada developed a keen interest in mathematics and science, which was encouraged by her tutors. She collaborated closely with Charles Babbage and became a visionary in the field of computing, foreseeing the potential of computers long before they became a reality.\\n\\nAda Lovelace passed away on November 27, 1852, but her legacy lives on, especially in the celebration of Ada Lovelace Day, which honors women\\'s contributions to science and technology.\\n\\n**Relation to You:**\\nAccording to the guest information, Ada Lovelace is listed as your **best friend**. She is described as an esteemed mathematician and friend, renowned for her pioneering work in mathematics and computing. Her email is provided as `ada.lovelace@example.com`, so you can reach out to her directly if you\\'d like to reconnect or discuss her work further. \\n\\nWould you like to know more about her contributions or how you might collaborate with her?', additional_kwargs={'refusal': None}, response_metadata={'token_usage': {'completion_tokens': 322, 'prompt_tokens': 1064, 'total_tokens': 1386, 'completion_tokens_details': None, 'prompt_tokens_details': {'audio_tokens': None, 'cached_tokens': 448}, 'prompt_cache_hit_tokens': 448, 'prompt_cache_miss_tokens': 616}, 'model_name': 'deepseek-chat', 'system_fingerprint': 'fp_8802369eaa_prod0623_fp8_kvcache', 'id': '781b0f67-f4f2-4ba4-9c45-0ee9a9b84547', 'service_tier': None, 'finish_reason': 'stop', 'logprobs': None}, id='run--0e456805-7961-4b70-a004-2920b384325a-0', usage_metadata={'input_tokens': 1064, 'output_tokens': 322, 'total_tokens': 1386, 'input_token_details': {'cache_read': 448}, 'output_token_details': {}}),\n",
       " HumanMessage(content='What projects is she currently working on?', additional_kwargs={}, response_metadata={}, id='7df7081c-6b78-4fb2-87c4-0243b5e2d47f'),\n",
       " AIMessage(content='', additional_kwargs={'tool_calls': [{'id': 'call_0_d4f7803a-0e54-4141-838f-7bcbfe5a6731', 'function': {'arguments': '{\"__arg1\":\"Lady Ada Lovelace\"}', 'name': 'guest_info_retriever'}, 'type': 'function', 'index': 0}], 'refusal': None}, response_metadata={'token_usage': {'completion_tokens': 28, 'prompt_tokens': 1397, 'total_tokens': 1425, 'completion_tokens_details': None, 'prompt_tokens_details': {'audio_tokens': None, 'cached_tokens': 1344}, 'prompt_cache_hit_tokens': 1344, 'prompt_cache_miss_tokens': 53}, 'model_name': 'deepseek-chat', 'system_fingerprint': 'fp_8802369eaa_prod0623_fp8_kvcache', 'id': '791eab7e-b827-4a15-8e57-6e11325883e0', 'service_tier': None, 'finish_reason': 'tool_calls', 'logprobs': None}, id='run--f761369f-3c7f-484d-9a5b-729f53c3baa3-0', tool_calls=[{'name': 'guest_info_retriever', 'args': {'__arg1': 'Lady Ada Lovelace'}, 'id': 'call_0_d4f7803a-0e54-4141-838f-7bcbfe5a6731', 'type': 'tool_call'}], usage_metadata={'input_tokens': 1397, 'output_tokens': 28, 'total_tokens': 1425, 'input_token_details': {'cache_read': 1344}, 'output_token_details': {}}),\n",
       " ToolMessage(content=\"Name: Ada Lovelace\\nRelation: best friend\\nDescription: Lady Ada Lovelace is my best friend. She is an esteemed mathematician and friend. She is renowned for her pioneering work in mathematics and computing, often celebrated as the first computer programmer due to her work on Charles Babbage's Analytical Engine.\\nEmail: ada.lovelace@example.com\\n\\nName: Marie Curie\\nRelation: no relation\\nDescription: Marie Curie was a groundbreaking physicist and chemist, famous for her research on radioactivity.\\nEmail: marie.curie@example.com\\n\\nName: Dr. Nikola Tesla\\nRelation: old friend from university days\\nDescription: Dr. Nikola Tesla is an old friend from your university days. He's recently patented a new wireless energy transmission system and would be delighted to discuss it with you. Just remember he's passionate about pigeons, so that might make for good small talk.\\nEmail: nikola.tesla@gmail.com\", name='guest_info_retriever', id='e13bcbed-6315-4968-98b4-d8bc819c65f4', tool_call_id='call_0_d4f7803a-0e54-4141-838f-7bcbfe5a6731'),\n",
       " AIMessage(content=\"The guest information doesn't provide specific details about Ada Lovelace's current projects. However, given her historical significance as the first computer programmer and her pioneering work with Charles Babbage's Analytical Engine, she might be involved in theoretical or symbolic computing projects, or perhaps mentoring the next generation of mathematicians and programmers.\\n\\nIf you'd like to know more, you could reach out to her directly via her email: **ada.lovelace@example.com**. Would you like help drafting a message to her?\", additional_kwargs={'refusal': None}, response_metadata={'token_usage': {'completion_tokens': 100, 'prompt_tokens': 1623, 'total_tokens': 1723, 'completion_tokens_details': None, 'prompt_tokens_details': {'audio_tokens': None, 'cached_tokens': 1408}, 'prompt_cache_hit_tokens': 1408, 'prompt_cache_miss_tokens': 215}, 'model_name': 'deepseek-chat', 'system_fingerprint': 'fp_8802369eaa_prod0623_fp8_kvcache', 'id': 'f67a9205-30b5-4517-a9c0-38aacabefbac', 'service_tier': None, 'finish_reason': 'stop', 'logprobs': None}, id='run--d2479253-37e3-49d5-902f-6efd8ac868c1-0', usage_metadata={'input_tokens': 1623, 'output_tokens': 100, 'total_tokens': 1723, 'input_token_details': {'cache_read': 1408}, 'output_token_details': {}})]"
      ]
     },
     "execution_count": 59,
     "metadata": {},
     "output_type": "execute_result"
    }
   ],
   "source": [
    "response[\"messages\"] "
   ]
  },
  {
   "cell_type": "code",
   "execution_count": null,
   "metadata": {},
   "outputs": [],
   "source": []
  }
 ],
 "metadata": {
  "kernelspec": {
   "display_name": "reinforcement_learning",
   "language": "python",
   "name": "python3"
  },
  "language_info": {
   "codemirror_mode": {
    "name": "ipython",
    "version": 3
   },
   "file_extension": ".py",
   "mimetype": "text/x-python",
   "name": "python",
   "nbconvert_exporter": "python",
   "pygments_lexer": "ipython3",
   "version": "3.11.13"
  }
 },
 "nbformat": 4,
 "nbformat_minor": 2
}
